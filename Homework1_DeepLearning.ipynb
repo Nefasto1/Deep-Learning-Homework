{
  "cells": [
    {
      "cell_type": "markdown",
      "metadata": {
        "id": "h6gzZrtO0FdX"
      },
      "source": [
        "# Deep Learning assignment #1\n",
        "\n",
        "In this first assignment of the *Deep Learning course*, you will be challenged to reproduce some experiments from the seminal paper that (probably) gave rise to the entire field of *Deep Learning*. Even though the experiments are definitely simple for today’s standards, their setup and execution may kickstart unexpectedly *deep* considerations about the subject.\n",
        "\n",
        "The list that follow should provide you with essential guidance on how the assignment should be carried on.\n",
        "\n",
        "1.   Read carefully the paper [*“Learning representations by back-propagating errors” (Rumelhart et al., 1986)*](https://bucket.ballarin.cc/papers/oth/rumelhart1986.pdf). Read it in its entirety, but focus specifically on the experiment outlined in *Fig. 1* (learning mirror symmetries in 6-digits numbers).\n",
        "\n",
        "2.   Reproduce in `PyTorch` (or any other *DL* library you are confident using) such experiment. Try to be as close as possible to the original protocol, with respect to network architecture, activation functions, learning algorithm and parameter initialization.\n",
        "\n",
        "3.   Assess model accuracy, and inspect the weights of the trained network. Do they provide a solution to the problem?\n",
        "\n",
        "4.   Compare the solution to the one reported in the original paper. Comment.\n",
        "5.   **Optional:** you are warmly encouraged to explore and discuss additional variations to the experimental details and the results they produce on final accuracy and weights of the network. Some of such changes may include (but are not limited to):\n",
        "     -   changing the activation functions of the network;\n",
        "     -   changing the optimizer and/or its hyperparameters;\n",
        "     -   adding a learning rate scheduler, *etc.*\n",
        "\n",
        "Write a short report (approx. 1 page long) about your experimentation and reproduction results, and what such experience had made you learn. The final document should be a `jupyter` notebook containing both the report and the code cells necessary to reproduce your experiments. Please, also comment any nontrivial parts of your code.\n",
        "\n",
        "**N.B.:** The very goal of this assignment is **not** that of exactly reproducing the results of the original paper. There are no *correct* or *incorrect* choices, as long as they are reasonable, convincing, and justified. Approach the problem with an open mind, and – most importantly – enjoy the journey!\n",
        "\n",
        "\n",
        "\n",
        "You can send your `jupyter` notebook in any digital format you prefer (`ipynb`, `html`, `pdf`) as an attachment to [emanuele@ballarin.cc](mailto:emanuele@ballarin.cc), by **the end of May 7, 2024**.\n",
        "\n",
        "You can also use the same email address for any question related to the assignment. If you have more general questions or doubts about the assignment itself, the paper, or any other part of the course seen until now, please also include Prof. Ansuini in the conversation ([alessio.ansuini@areasciencepark.it](mailto:alessio.ansuini@areasciencepark.it)).\n",
        "\n",
        "\n",
        "\n",
        "**P.S.:** The code of your notebook is expected to run in compatibility with the latest version of `PyTorch` (*i.e.* `2.2.2`). If you require the use of any different version (or any different or additional library), please, specify it or make it clear from your comments. Thanks!\n"
      ]
    },
    {
      "cell_type": "markdown",
      "metadata": {
        "id": "d4ZL7DEvZhNK"
      },
      "source": [
        "## Initialization Constants"
      ]
    },
    {
      "cell_type": "code",
      "execution_count": 11,
      "metadata": {
        "id": "dDDmkbjY0EuZ"
      },
      "outputs": [],
      "source": [
        "import torch as th\n",
        "import numpy as np\n",
        "\n",
        "from torch.utils.data import DataLoader\n",
        "from torch.utils.data import Dataset\n",
        "from sklearn.model_selection import train_test_split\n",
        "from itertools import product\n",
        "\n",
        "from tqdm.auto import trange\n",
        "\n",
        "import matplotlib.pyplot as plt"
      ]
    },
    {
      "cell_type": "code",
      "execution_count": 12,
      "metadata": {
        "id": "Zwi2hC-j0mQT"
      },
      "outputs": [],
      "source": [
        "device: th.device = th.device(\"cuda\" if th.cuda.is_available() else \"cpu\")\n",
        "CRITERION = (th.nn.MSELoss())\n",
        "LR: float = 0.1\n",
        "DECAY: float = 0.9\n",
        "BATCH_SIZE: int = 64"
      ]
    },
    {
      "cell_type": "markdown",
      "metadata": {
        "id": "qhu1gdYbZn-r"
      },
      "source": [
        "## Data Generation"
      ]
    },
    {
      "cell_type": "markdown",
      "source": [
        "To understand if an input data is ismmetric we can just check if the first value is equal to the last, the second to the second-last and so on"
      ],
      "metadata": {
        "id": "HyJf7gBCtOJl"
      }
    },
    {
      "cell_type": "code",
      "execution_count": 13,
      "metadata": {
        "id": "8YwD64ua2GV-"
      },
      "outputs": [],
      "source": [
        "def is_simmetric(tensor: th.tensor):\n",
        "    # Allocate the output array\n",
        "    simmetric = th.zeros((len(tensor), 1))\n",
        "    d = tensor.shape[1]//2\n",
        "\n",
        "    # For each row...\n",
        "    for i, row in enumerate(tensor.numpy()):\n",
        "\n",
        "        simmetric[i] = float((row[:d] == row[d:][::-1]).all())\n",
        "\n",
        "    return simmetric"
      ]
    },
    {
      "cell_type": "markdown",
      "source": [
        "We can generate the simmetric data just keeping them from the randomly generated one"
      ],
      "metadata": {
        "id": "yTspJdqttqRe"
      }
    },
    {
      "cell_type": "code",
      "execution_count": 45,
      "metadata": {
        "id": "lLBDu1y913IC"
      },
      "outputs": [],
      "source": [
        "def generate_data(shape: tuple[int, int] = (10000, 6), low: int=0, high: int=10) -> tuple[th.tensor, th.tensor]:\n",
        "    # Initialize the tensor\n",
        "    data = th.tensor([])\n",
        "\n",
        "    # While we don't have half row simmetric\n",
        "    while len(data) < shape[0]//2:\n",
        "        # Generate random rows and check if they are simmetric\n",
        "        x_tmp = th.randint(low=low, high=high, size=shape)\n",
        "        y_tmp = is_simmetric(x_tmp)\n",
        "\n",
        "        # Take just the simmetric row\n",
        "        y_tmp_ = y_tmp.reshape(-1).bool()\n",
        "        simmetric_rows = x_tmp[y_tmp_]\n",
        "\n",
        "        # Append to the tensor\n",
        "        data = th.cat((data, simmetric_rows), dim=0)\n",
        "\n",
        "    # Generate the other half rows\n",
        "    # Generally few rows are simmetric, so the dataset will be nearly balanced\n",
        "    not_simmetric = th.randint(low=0, high=10, size=data.shape)\n",
        "\n",
        "    # Obtain the final dataset\n",
        "    X = th.cat((data, not_simmetric), dim=0)\n",
        "    y = is_simmetric(X).float\n",
        "\n",
        "    return X, y"
      ]
    },
    {
      "cell_type": "markdown",
      "source": [
        "To generate all the possible combination of a binary array we can just use a cartesian product of the values"
      ],
      "metadata": {
        "id": "3rVk8V7ht2oS"
      }
    },
    {
      "cell_type": "code",
      "source": [
        "def generate_data_binary(dim: int = 6):\n",
        "    # data = th.tensor([])\n",
        "\n",
        "    ## Convert the binary representation of the values in array\n",
        "    # for i in range(2**dim):\n",
        "    #     idxs = np.array(list(bin(i).split(\"b\")[1]))\n",
        "    #     idxs = np.where(idxs == '1')[0] - len(idxs)\n",
        "\n",
        "    #     new = th.zeros((1, dim))\n",
        "    #     new[0, idxs] = 1\n",
        "\n",
        "    #     data = th.cat((data, new))\n",
        "\n",
        "    X = th.tensor(list(product([0,1], repeat=6))).float()\n",
        "\n",
        "    y = is_simmetric(X)\n",
        "\n",
        "    return X, y"
      ],
      "metadata": {
        "id": "Yv-lUQJa1m9L"
      },
      "execution_count": 53,
      "outputs": []
    },
    {
      "cell_type": "markdown",
      "source": [
        "We can define Dataset class for our data"
      ],
      "metadata": {
        "id": "0Nkru_SRuHQh"
      }
    },
    {
      "cell_type": "code",
      "execution_count": 16,
      "metadata": {
        "id": "oXVVMm1NWQ6B"
      },
      "outputs": [],
      "source": [
        "class SimmetricData(Dataset):\n",
        "    def __init__(self, X: th.tensor, y: th.tensor):\n",
        "        self.X = X\n",
        "        self.y = y\n",
        "\n",
        "    def __len__(self):\n",
        "        return self.X.shape[0]\n",
        "\n",
        "    def __getitem__(self, index: int):\n",
        "        return self.X[index], self.y[index]"
      ]
    },
    {
      "cell_type": "markdown",
      "source": [
        "We can split the data into train and test set randomly chosing the indexes"
      ],
      "metadata": {
        "id": "hiQlq8GNuLcN"
      }
    },
    {
      "cell_type": "code",
      "execution_count": 17,
      "metadata": {
        "id": "E472i6PoXVcU"
      },
      "outputs": [],
      "source": [
        "def split_data(X: th.tensor, y: th.tensor, test_size: int | float = 0.2) -> tuple[th.tensor, th.tensor, th.tensor, th.tensor]:\n",
        "    if test_size < 1:\n",
        "        test_size = int(len(y)*test_size)\n",
        "\n",
        "    test_idxs = np.random.choice(range(len(y)), size=test_size, replace=False)\n",
        "    train_idxs = list(set(range(len(y))) - set(test_idxs))\n",
        "\n",
        "    return X[train_idxs], X[test_idxs], y[train_idxs], y[test_idxs]"
      ]
    },
    {
      "cell_type": "markdown",
      "source": [],
      "metadata": {
        "id": "fBHTobREubEL"
      }
    },
    {
      "cell_type": "code",
      "execution_count": 54,
      "metadata": {
        "id": "Ax9zgz8n_2au"
      },
      "outputs": [],
      "source": [
        "# X, y = generate_data(shape=(10000, 6), low=0, high=1)\n",
        "X, y = generate_data_binary(dim=6)"
      ]
    },
    {
      "cell_type": "code",
      "source": [
        "train_idxs = np.random.choice(range(len(X)), 10000, replace=True)\n",
        "test_idxs = np.random.choice(range(len(X)), 1000, replace=True)"
      ],
      "metadata": {
        "id": "GrEemfZwKKxy"
      },
      "execution_count": 55,
      "outputs": []
    },
    {
      "cell_type": "code",
      "execution_count": 56,
      "metadata": {
        "id": "jy0V1_4oY2iu"
      },
      "outputs": [],
      "source": [
        "X_train, X_test, y_train, y_test = split_data(X, y)\n",
        "#X_train, X_test, y_train, y_test = X[train_idxs], X[test_idxs], y[train_idxs], y[test_idxs]"
      ]
    },
    {
      "cell_type": "code",
      "execution_count": 57,
      "metadata": {
        "id": "UcbVBgIJXF8j"
      },
      "outputs": [],
      "source": [
        "train_dataset: SimmetricData = SimmetricData(X_train, y_train)\n",
        "test_dataset: SimmetricData = SimmetricData(X_test, y_test)"
      ]
    },
    {
      "cell_type": "code",
      "source": [
        "train_dataset: SimmetricData = SimmetricData(X, y)\n",
        "test_dataset: SimmetricData = SimmetricData(X, y)"
      ],
      "metadata": {
        "id": "AE4UmHbonoge"
      },
      "execution_count": 58,
      "outputs": []
    },
    {
      "cell_type": "markdown",
      "source": [
        "We can convert the Dataset class into DataLoader"
      ],
      "metadata": {
        "id": "W_PtykRRufNP"
      }
    },
    {
      "cell_type": "code",
      "execution_count": 59,
      "metadata": {
        "id": "ScTEo8cNZAIM"
      },
      "outputs": [],
      "source": [
        "train_dataloader: DataLoader = DataLoader(train_dataset, batch_size=BATCH_SIZE, shuffle=True)\n",
        "test_dataloader: DataLoader = DataLoader(test_dataset, batch_size=BATCH_SIZE, shuffle=True)"
      ]
    },
    {
      "cell_type": "markdown",
      "source": [
        "We can notice that, generating all the 64 combinations of a binary array of size 6, the simmetric data are a lot less than the non-simmetric ones."
      ],
      "metadata": {
        "id": "fkfUhlz3ul4U"
      }
    },
    {
      "cell_type": "code",
      "execution_count": 33,
      "metadata": {
        "colab": {
          "base_uri": "https://localhost:8080/"
        },
        "id": "9tXjvqzT9zDD",
        "outputId": "ce1a32a1-ce2c-464c-f8f0-576ed530cbc1"
      },
      "outputs": [
        {
          "output_type": "stream",
          "name": "stdout",
          "text": [
            "Total data: \t64\n",
            "Simmetric: \t12.5%\n",
            "Not Simmetric: \t87.5%\n"
          ]
        }
      ],
      "source": [
        "prop = round(y.sum().item()/y.shape[0], 3)\n",
        "print(f\"Total data: \\t{len(y)}\",\n",
        "      f\"Simmetric: \\t{prop*100}%\",\n",
        "      f\"Not Simmetric: \\t{(1-prop)*100}%\", sep=\"\\n\")"
      ]
    },
    {
      "cell_type": "markdown",
      "metadata": {
        "id": "ZrYsyqlUZsgZ"
      },
      "source": [
        "## Reproduction\n",
        "We can define the model as the one defined from the paper. \\\\\n",
        "This contains just one fully-connected hidden layer with two hidden units, and an output layer with just one output. \\\\\n",
        "The used activation functions are the Sigmoids."
      ]
    },
    {
      "cell_type": "code",
      "execution_count": 36,
      "metadata": {
        "id": "yfOZ9KRkUdJ2"
      },
      "outputs": [],
      "source": [
        "def generate_model(input_size: int) -> th.nn.Module:\n",
        "    return th.nn.Sequential(\n",
        "        th.nn.Linear(in_features=input_size, out_features=2, bias=True),\n",
        "        th.nn.Sigmoid(),\n",
        "        th.nn.Linear(in_features=2, out_features=1, bias=True),\n",
        "        th.nn.Sigmoid(),\n",
        "    )"
      ]
    },
    {
      "cell_type": "code",
      "execution_count": 37,
      "metadata": {
        "id": "eCL5ilqHZxpd"
      },
      "outputs": [],
      "source": [
        "def train_routine(model: th.nn.Module, criterion, optimizer: th.optim.Optimizer, train_loader: DataLoader, test_loader: DataLoader, epochs: int = 10):\n",
        "    train_loss = th.zeros(epochs)\n",
        "    train_accuracy = th.zeros(epochs)\n",
        "    test_loss = th.zeros(epochs)\n",
        "    test_accuracy = th.zeros(epochs)\n",
        "\n",
        "    for epoch in trange(epochs):\n",
        "        model.train()\n",
        "\n",
        "        for (X, y) in train_loader:\n",
        "            X, y = X.to(device), y.to(device)\n",
        "\n",
        "            output = model(X)\n",
        "            loss = criterion(output, y)\n",
        "\n",
        "            optimizer.zero_grad()\n",
        "            loss.backward()\n",
        "            optimizer.step()\n",
        "\n",
        "        model.eval()\n",
        "\n",
        "        loss: float = 0\n",
        "        correct: float = 0\n",
        "        total: float = 0\n",
        "\n",
        "        with th.no_grad():\n",
        "            for (X, y) in train_loader:\n",
        "                X, y = X.to(device), y.to(device)\n",
        "\n",
        "                output = model(X)\n",
        "                classes = output > 0.5\n",
        "\n",
        "                loss += criterion(output, y).item()\n",
        "\n",
        "                correct += classes.eq(y.view_as(classes)).sum().item()\n",
        "                total += len(output)\n",
        "\n",
        "            train_loss[epoch] = loss/total\n",
        "            train_accuracy[epoch] = correct/total\n",
        "\n",
        "\n",
        "        loss: float = 0\n",
        "        correct: float = 0\n",
        "        total: float = 0\n",
        "\n",
        "        with th.no_grad():\n",
        "            for (X, y) in test_loader:\n",
        "                X, y = X.to(device), y.to(device)\n",
        "\n",
        "                output = model(X)\n",
        "                classes = output > 0.5\n",
        "\n",
        "                loss += criterion(output, y).item()\n",
        "\n",
        "                correct += classes.eq(y.view_as(classes)).sum().item()\n",
        "                total += len(output)\n",
        "\n",
        "            test_loss[epoch] = loss/total\n",
        "            test_accuracy[epoch] = correct/total\n",
        "\n",
        "\n",
        "    return train_loss, train_accuracy, test_loss, test_accuracy"
      ]
    },
    {
      "cell_type": "markdown",
      "source": [
        "We havew to initialize the parameters from an uniform distribution\n",
        "\n",
        "$$Unif(-0.3, 0.3)$$"
      ],
      "metadata": {
        "id": "ta-v6m2vv3de"
      }
    },
    {
      "cell_type": "code",
      "execution_count": 40,
      "metadata": {
        "id": "YXjBuWi4GvOM"
      },
      "outputs": [],
      "source": [
        "def init_parameters_uniform(model: th.nn.Module, boundary: float = 0.3):\n",
        "    for parameters in model.parameters():\n",
        "        th.nn.init.uniform_(parameters, a=-boundary, b=boundary)"
      ]
    },
    {
      "cell_type": "code",
      "execution_count": 489,
      "metadata": {
        "id": "mYuTutw_VLaB"
      },
      "outputs": [],
      "source": [
        "model: th.nn.Module = generate_model(X.shape[1]).to(device)"
      ]
    },
    {
      "cell_type": "code",
      "execution_count": 490,
      "metadata": {
        "id": "dHOeYSTOGr7V"
      },
      "outputs": [],
      "source": [
        "init_parameters_uniform(model, boundary=0.3)"
      ]
    },
    {
      "cell_type": "markdown",
      "source": [
        "We apply a 0.9 weight decay value in the Stochastic Gradient Descent Optimizer"
      ],
      "metadata": {
        "id": "qwDoHBwXwNRM"
      }
    },
    {
      "cell_type": "code",
      "execution_count": 491,
      "metadata": {
        "id": "frsdQrmf1wQg"
      },
      "outputs": [],
      "source": [
        "# optimizer: th.optim.Optimizer = th.optim.Adam(model.parameters(), lr=0.3, weight_decay=DECAY)\n",
        "optimizer: th.optim.Optimizer = th.optim.SGD(model.parameters(), lr=LR, weight_decay=DECAY)"
      ]
    },
    {
      "cell_type": "markdown",
      "metadata": {
        "id": "I4zvGPNoZuiO"
      },
      "source": [
        "### Train"
      ]
    },
    {
      "cell_type": "markdown",
      "source": [
        "We can train our model for 1425 epochs as done in the paper"
      ],
      "metadata": {
        "id": "RdP11C44wXlr"
      }
    },
    {
      "cell_type": "code",
      "execution_count": 492,
      "metadata": {
        "colab": {
          "base_uri": "https://localhost:8080/",
          "height": 49,
          "referenced_widgets": [
            "35670fcc32054f84bd04b33cce094395",
            "b108aaf7c0154b73969891478ff3f4e4",
            "67beaff93ac64aecb03fce6a911e4232",
            "db3f4f38d6034f7e8b9145b3889a6960",
            "86a3af826db842d8a763bed38e4cf703",
            "886f583fc83645f4acb97ef06bfb28b3",
            "457e5a704e2e46c795f0eb16ffeea1a6",
            "404b72c9ca7e44cda3dc7ade5c9ae1ec",
            "bd8d07eddee2469e8271d290f0e4937d",
            "c8de7f3f11304d5e8940553759e4587d",
            "2821e9b816824f2da70de7c6461aeda8"
          ]
        },
        "id": "ibN3gpReWGEV",
        "outputId": "c4a2c319-8a23-47d0-df23-8501bd53753b"
      },
      "outputs": [
        {
          "output_type": "display_data",
          "data": {
            "text/plain": [
              "  0%|          | 0/1425 [00:00<?, ?it/s]"
            ],
            "application/vnd.jupyter.widget-view+json": {
              "version_major": 2,
              "version_minor": 0,
              "model_id": "35670fcc32054f84bd04b33cce094395"
            }
          },
          "metadata": {}
        }
      ],
      "source": [
        "train_loss, train_accuracy, test_loss, test_accuracy = train_routine(model, CRITERION, optimizer, train_dataloader, test_dataloader, epochs=1425)"
      ]
    },
    {
      "cell_type": "markdown",
      "source": [
        "What we can notice is that the learned model is just a dummy classifier, the obtained accuracy is the same proportion of the number of elements which are non-simmetric"
      ],
      "metadata": {
        "id": "hVIlj1ZewhzM"
      }
    },
    {
      "cell_type": "code",
      "execution_count": 493,
      "metadata": {
        "colab": {
          "base_uri": "https://localhost:8080/",
          "height": 497
        },
        "id": "32SyvwXrnRBO",
        "outputId": "ece02c33-f5d4-458f-af66-277338a410df"
      },
      "outputs": [
        {
          "output_type": "display_data",
          "data": {
            "text/plain": [
              "<Figure size 640x480 with 2 Axes>"
            ],
            "image/png": "[encoded data removed]"
          },
          "metadata": {}
        }
      ],
      "source": [
        "fig, ax1 = plt.subplots()\n",
        "fig.suptitle(\"Train\")\n",
        "\n",
        "ax1.plot(range(len(train_loss)), train_loss, color=\"red\")\n",
        "ax1.set_xlabel(\"Iterations\")\n",
        "ax1.set_ylabel(\"Loss\", color=\"red\")\n",
        "ax1.tick_params(axis=\"y\", labelcolor=\"red\")\n",
        "\n",
        "ax2 = ax1.twinx()\n",
        "ax2.plot(range(len(train_accuracy)), train_accuracy, color=\"blue\")\n",
        "ax2.set_ylabel(\"Accuracy\", color=\"blue\")\n",
        "ax2.set_ylim(bottom=-0.1, top=1.1)\n",
        "ax2.tick_params(axis=\"y\", labelcolor=\"blue\")"
      ]
    },
    {
      "cell_type": "code",
      "source": [
        "print(train_accuracy[-1].item())\n",
        "print(1 - next(iter(train_dataloader))[1].mean().item())"
      ],
      "metadata": {
        "colab": {
          "base_uri": "https://localhost:8080/"
        },
        "id": "hL2slZWw_Cqn",
        "outputId": "18ae565b-b4b4-4571-fe42-b92cf5ddd8ea"
      },
      "execution_count": 494,
      "outputs": [
        {
          "output_type": "stream",
          "name": "stdout",
          "text": [
            "0.875\n",
            "0.875\n"
          ]
        }
      ]
    },
    {
      "cell_type": "markdown",
      "source": [
        "The learned parameters are not simmetric at all, the converge to the same value everywhere"
      ],
      "metadata": {
        "id": "-X613NeSxYAr"
      }
    },
    {
      "cell_type": "code",
      "execution_count": 495,
      "metadata": {
        "colab": {
          "base_uri": "https://localhost:8080/"
        },
        "id": "0xRWhLsNsJRH",
        "outputId": "a3cfeb46-6adf-477d-94fc-0a3cca422f59"
      },
      "outputs": [
        {
          "output_type": "execute_result",
          "data": {
            "text/plain": [
              "[Parameter containing:\n",
              " tensor([[0.0018, 0.0018, 0.0018, 0.0018, 0.0018, 0.0018],\n",
              "         [0.0018, 0.0018, 0.0018, 0.0018, 0.0018, 0.0018]], device='cuda:0',\n",
              "        requires_grad=True),\n",
              " Parameter containing:\n",
              " tensor([0.0036, 0.0036], device='cuda:0', requires_grad=True),\n",
              " Parameter containing:\n",
              " tensor([[-0.0855, -0.0855]], device='cuda:0', requires_grad=True),\n",
              " Parameter containing:\n",
              " tensor([-0.1702], device='cuda:0', requires_grad=True)]"
            ]
          },
          "metadata": {},
          "execution_count": 495
        }
      ],
      "source": [
        "list(model.parameters())"
      ]
    },
    {
      "cell_type": "markdown",
      "source": [
        "## Other Parameters\n",
        "We try to use the momentum instead of the weight_decay and increasing the learning rate"
      ],
      "metadata": {
        "id": "XnqCyN2F5Lj8"
      }
    },
    {
      "cell_type": "code",
      "execution_count": 69,
      "metadata": {
        "id": "GJAjOXD6jnAm"
      },
      "outputs": [],
      "source": [
        "model: th.nn.Module = generate_model(X.shape[1]).to(device)"
      ]
    },
    {
      "cell_type": "code",
      "execution_count": 70,
      "metadata": {
        "id": "d1L4XuinjnAo"
      },
      "outputs": [],
      "source": [
        "init_parameters_uniform(model, boundary=0.3)"
      ]
    },
    {
      "cell_type": "code",
      "execution_count": 71,
      "metadata": {
        "id": "7cA-yt7ajnAo"
      },
      "outputs": [],
      "source": [
        "# optimizer: th.optim.Optimizer = th.optim.Adam(model.parameters(), lr=1, weight_decay=0.5)\n",
        "optimizer: th.optim.Optimizer = th.optim.SGD(model.parameters(), lr=1, momentum=0.9)"
      ]
    },
    {
      "cell_type": "markdown",
      "metadata": {
        "id": "zwQ6g0jMjnAp"
      },
      "source": [
        "### Train"
      ]
    },
    {
      "cell_type": "code",
      "execution_count": 72,
      "metadata": {
        "colab": {
          "base_uri": "https://localhost:8080/",
          "height": 49,
          "referenced_widgets": [
            "1099a47fba164b65ad2e8d949a1bebfb",
            "69e0d7b3f24a4f2a9e2246cd1d1b5695",
            "d253736a22b74487a76f56918368211f",
            "fc4568f059244d07862767059ab2978d",
            "a5b12ed2d82843088d998d5351b97941",
            "a3c8e8a6b35d4e38ada9aee4cb5acdc1",
            "3315f8b1ab8d43a1872546dc18bd5842",
            "d83cb4f8e14e40f5a3516d4d1f0781f8",
            "8927daacee8541f5974f56de0eb57f9c",
            "1584c365dc644c26ab0da8a42b41c6e4",
            "25884817ca504614b3ea948970d396b0"
          ]
        },
        "outputId": "dee0de2c-6716-4036-e823-8fb5fd39c949",
        "id": "1xNAvL62jnAp"
      },
      "outputs": [
        {
          "output_type": "display_data",
          "data": {
            "text/plain": [
              "  0%|          | 0/1245 [00:00<?, ?it/s]"
            ],
            "application/vnd.jupyter.widget-view+json": {
              "version_major": 2,
              "version_minor": 0,
              "model_id": "1099a47fba164b65ad2e8d949a1bebfb"
            }
          },
          "metadata": {}
        }
      ],
      "source": [
        "train_loss, train_accuracy, test_loss, test_accuracy = train_routine(model, CRITERION, optimizer, train_dataloader, test_dataloader, epochs=1245)"
      ]
    },
    {
      "cell_type": "markdown",
      "source": [
        "From this configuration we can notice that the model is able to learn the simmetry"
      ],
      "metadata": {
        "id": "_NAR60UX5Psy"
      }
    },
    {
      "cell_type": "code",
      "execution_count": 73,
      "metadata": {
        "colab": {
          "base_uri": "https://localhost:8080/",
          "height": 497
        },
        "outputId": "c1bbdc4f-3ff7-4f04-dccb-3fc93e52632a",
        "id": "L-blWywtjnAp"
      },
      "outputs": [
        {
          "output_type": "display_data",
          "data": {
            "text/plain": [
              "<Figure size 640x480 with 2 Axes>"
            ],
            "image/png": "[encoded data removed]"
          },
          "metadata": {}
        }
      ],
      "source": [
        "fig, ax1 = plt.subplots()\n",
        "fig.suptitle(\"Train\")\n",
        "\n",
        "ax1.plot(range(len(train_loss)), train_loss, color=\"red\")\n",
        "ax1.set_xlabel(\"Iterations\")\n",
        "ax1.set_ylabel(\"Loss\", color=\"red\")\n",
        "ax1.tick_params(axis=\"y\", labelcolor=\"red\")\n",
        "\n",
        "ax2 = ax1.twinx()\n",
        "ax2.plot(range(len(train_accuracy)), train_accuracy, color=\"blue\")\n",
        "ax2.set_ylabel(\"Accuracy\", color=\"blue\")\n",
        "ax2.set_ylim(bottom=-0.1, top=1.1)\n",
        "ax2.tick_params(axis=\"y\", labelcolor=\"blue\")"
      ]
    },
    {
      "cell_type": "code",
      "source": [
        "print(train_accuracy[-1].item())\n",
        "print(1 - next(iter(train_dataloader))[1].mean().item())"
      ],
      "metadata": {
        "colab": {
          "base_uri": "https://localhost:8080/"
        },
        "outputId": "3e8cdc02-13d6-4c9f-b33d-e3b2f1a03289",
        "id": "Wr-f7Sv1jnAq"
      },
      "execution_count": 74,
      "outputs": [
        {
          "output_type": "stream",
          "name": "stdout",
          "text": [
            "1.0\n",
            "0.875\n"
          ]
        }
      ]
    },
    {
      "cell_type": "code",
      "execution_count": 75,
      "metadata": {
        "colab": {
          "base_uri": "https://localhost:8080/"
        },
        "outputId": "fcbae38f-b391-4ef1-a790-72670cb6154d",
        "id": "ZmVARKUxjnAq"
      },
      "outputs": [
        {
          "output_type": "execute_result",
          "data": {
            "text/plain": [
              "[Parameter containing:\n",
              " tensor([[-9.3558,  4.7085, -2.3654,  2.3627, -4.7103,  9.3542],\n",
              "         [ 9.3152, -4.6908,  2.3527, -2.3558,  4.6889, -9.3169]],\n",
              "        requires_grad=True),\n",
              " Parameter containing:\n",
              " tensor([-1.8655, -1.8582], requires_grad=True),\n",
              " Parameter containing:\n",
              " tensor([[-11.5967, -11.6094]], requires_grad=True),\n",
              " Parameter containing:\n",
              " tensor([5.0260], requires_grad=True)]"
            ]
          },
          "metadata": {},
          "execution_count": 75
        }
      ],
      "source": [
        "list(model.parameters())"
      ]
    },
    {
      "cell_type": "markdown",
      "source": [
        "# Conclusions\n",
        "\n",
        "We tried to implement the network suggested from the paper, composed by one hidden layer with two hidden units, and just one output. This was done using fully conntected layers. \\\\\n",
        "\n",
        "The used loss function is the Mean Square Error, while the optimizer is the classical Stochastic Gradient Descent using a weigth decay of 0.9 and a learning rate of 0.1. \\\\\n",
        "\n",
        "The batch size is equal to the size of the dataset, which is 64.\n",
        "As a test set we use the whole train-set, due to the lack of data.\n",
        "In the end, the parameters are initialized uniformly between -0.3 and 0.3. \\\\\n",
        "\n",
        "From the implementation of the network suggested from the paper, we can notice that the obtained model is nothing else than a dummy classifier, because classify all the elements with the same class. \\\\\n",
        "\n",
        "This is probably due to the high umbalancing of the data, which will contain just 64 rows, from which just 8 are simmetric, which means 12.5% of the dataset. We have also that the parameters seems to converge all to the same value. \\\\\n",
        "\n",
        "This problem is solvable increasing the learning rate, this because the loss function is probably contains several local minima. Increase the learning rate can increase the probability to go out from the local minima, but give also the possibility to bounce without reaching the global minimum.\n",
        "To help this process to reach better minima, we can use the momentum which will reduce the bouncing through the walls. \\\\\n",
        "\n",
        "We can see that using this approach the model is able to reach the maximum accuracy and obtain simmetrical parameters. These, of course, are different from the ones found from the paper, but they are consistent with their results. \\\\\n",
        "\n",
        "So we can conclude that the parameters and strategies suggested from the paper are not enough to find the requested results, because the model will be stuck into local minima. The solutions can be found using some strategies which push the parameters away from the minima introducing some noise, e.g. which could be a smaller batch, but in this case we probably should balance the dataset otherwise we could obtain batches without simmetric values, or, like seen before, introducing the momentum."
      ],
      "metadata": {
        "id": "s0jKAMGU6Coa"
      }
    }
  ],
  "metadata": {
    "accelerator": "GPU",
    "colab": {
      "gpuType": "T4",
      "provenance": [],
      "collapsed_sections": [
        "ZrYsyqlUZsgZ"
      ]
    },
    "kernelspec": {
      "display_name": "Python 3",
      "name": "python3"
    },
    "language_info": {
      "name": "python"
    },
    "widgets": {
      "application/vnd.jupyter.widget-state+json": {
        "35670fcc32054f84bd04b33cce094395": {
          "model_module": "@jupyter-widgets/controls",
          "model_name": "HBoxModel",
          "model_module_version": "1.5.0",
          "state": {
            "_dom_classes": [],
            "_model_module": "@jupyter-widgets/controls",
            "_model_module_version": "1.5.0",
            "_model_name": "HBoxModel",
            "_view_count": null,
            "_view_module": "@jupyter-widgets/controls",
            "_view_module_version": "1.5.0",
            "_view_name": "HBoxView",
            "box_style": "",
            "children": [
              "IPY_MODEL_b108aaf7c0154b73969891478ff3f4e4",
              "IPY_MODEL_67beaff93ac64aecb03fce6a911e4232",
              "IPY_MODEL_db3f4f38d6034f7e8b9145b3889a6960"
            ],
            "layout": "IPY_MODEL_86a3af826db842d8a763bed38e4cf703"
          }
        },
        "b108aaf7c0154b73969891478ff3f4e4": {
          "model_module": "@jupyter-widgets/controls",
          "model_name": "HTMLModel",
          "model_module_version": "1.5.0",
          "state": {
            "_dom_classes": [],
            "_model_module": "@jupyter-widgets/controls",
            "_model_module_version": "1.5.0",
            "_model_name": "HTMLModel",
            "_view_count": null,
            "_view_module": "@jupyter-widgets/controls",
            "_view_module_version": "1.5.0",
            "_view_name": "HTMLView",
            "description": "",
            "description_tooltip": null,
            "layout": "IPY_MODEL_886f583fc83645f4acb97ef06bfb28b3",
            "placeholder": "​",
            "style": "IPY_MODEL_457e5a704e2e46c795f0eb16ffeea1a6",
            "value": "100%"
          }
        },
        "67beaff93ac64aecb03fce6a911e4232": {
          "model_module": "@jupyter-widgets/controls",
          "model_name": "FloatProgressModel",
          "model_module_version": "1.5.0",
          "state": {
            "_dom_classes": [],
            "_model_module": "@jupyter-widgets/controls",
            "_model_module_version": "1.5.0",
            "_model_name": "FloatProgressModel",
            "_view_count": null,
            "_view_module": "@jupyter-widgets/controls",
            "_view_module_version": "1.5.0",
            "_view_name": "ProgressView",
            "bar_style": "success",
            "description": "",
            "description_tooltip": null,
            "layout": "IPY_MODEL_404b72c9ca7e44cda3dc7ade5c9ae1ec",
            "max": 1425,
            "min": 0,
            "orientation": "horizontal",
            "style": "IPY_MODEL_bd8d07eddee2469e8271d290f0e4937d",
            "value": 1425
          }
        },
        "db3f4f38d6034f7e8b9145b3889a6960": {
          "model_module": "@jupyter-widgets/controls",
          "model_name": "HTMLModel",
          "model_module_version": "1.5.0",
          "state": {
            "_dom_classes": [],
            "_model_module": "@jupyter-widgets/controls",
            "_model_module_version": "1.5.0",
            "_model_name": "HTMLModel",
            "_view_count": null,
            "_view_module": "@jupyter-widgets/controls",
            "_view_module_version": "1.5.0",
            "_view_name": "HTMLView",
            "description": "",
            "description_tooltip": null,
            "layout": "IPY_MODEL_c8de7f3f11304d5e8940553759e4587d",
            "placeholder": "​",
            "style": "IPY_MODEL_2821e9b816824f2da70de7c6461aeda8",
            "value": " 1425/1425 [00:08&lt;00:00, 100.46it/s]"
          }
        },
        "86a3af826db842d8a763bed38e4cf703": {
          "model_module": "@jupyter-widgets/base",
          "model_name": "LayoutModel",
          "model_module_version": "1.2.0",
          "state": {
            "_model_module": "@jupyter-widgets/base",
            "_model_module_version": "1.2.0",
            "_model_name": "LayoutModel",
            "_view_count": null,
            "_view_module": "@jupyter-widgets/base",
            "_view_module_version": "1.2.0",
            "_view_name": "LayoutView",
            "align_content": null,
            "align_items": null,
            "align_self": null,
            "border": null,
            "bottom": null,
            "display": null,
            "flex": null,
            "flex_flow": null,
            "grid_area": null,
            "grid_auto_columns": null,
            "grid_auto_flow": null,
            "grid_auto_rows": null,
            "grid_column": null,
            "grid_gap": null,
            "grid_row": null,
            "grid_template_areas": null,
            "grid_template_columns": null,
            "grid_template_rows": null,
            "height": null,
            "justify_content": null,
            "justify_items": null,
            "left": null,
            "margin": null,
            "max_height": null,
            "max_width": null,
            "min_height": null,
            "min_width": null,
            "object_fit": null,
            "object_position": null,
            "order": null,
            "overflow": null,
            "overflow_x": null,
            "overflow_y": null,
            "padding": null,
            "right": null,
            "top": null,
            "visibility": null,
            "width": null
          }
        },
        "886f583fc83645f4acb97ef06bfb28b3": {
          "model_module": "@jupyter-widgets/base",
          "model_name": "LayoutModel",
          "model_module_version": "1.2.0",
          "state": {
            "_model_module": "@jupyter-widgets/base",
            "_model_module_version": "1.2.0",
            "_model_name": "LayoutModel",
            "_view_count": null,
            "_view_module": "@jupyter-widgets/base",
            "_view_module_version": "1.2.0",
            "_view_name": "LayoutView",
            "align_content": null,
            "align_items": null,
            "align_self": null,
            "border": null,
            "bottom": null,
            "display": null,
            "flex": null,
            "flex_flow": null,
            "grid_area": null,
            "grid_auto_columns": null,
            "grid_auto_flow": null,
            "grid_auto_rows": null,
            "grid_column": null,
            "grid_gap": null,
            "grid_row": null,
            "grid_template_areas": null,
            "grid_template_columns": null,
            "grid_template_rows": null,
            "height": null,
            "justify_content": null,
            "justify_items": null,
            "left": null,
            "margin": null,
            "max_height": null,
            "max_width": null,
            "min_height": null,
            "min_width": null,
            "object_fit": null,
            "object_position": null,
            "order": null,
            "overflow": null,
            "overflow_x": null,
            "overflow_y": null,
            "padding": null,
            "right": null,
            "top": null,
            "visibility": null,
            "width": null
          }
        },
        "457e5a704e2e46c795f0eb16ffeea1a6": {
          "model_module": "@jupyter-widgets/controls",
          "model_name": "DescriptionStyleModel",
          "model_module_version": "1.5.0",
          "state": {
            "_model_module": "@jupyter-widgets/controls",
            "_model_module_version": "1.5.0",
            "_model_name": "DescriptionStyleModel",
            "_view_count": null,
            "_view_module": "@jupyter-widgets/base",
            "_view_module_version": "1.2.0",
            "_view_name": "StyleView",
            "description_width": ""
          }
        },
        "404b72c9ca7e44cda3dc7ade5c9ae1ec": {
          "model_module": "@jupyter-widgets/base",
          "model_name": "LayoutModel",
          "model_module_version": "1.2.0",
          "state": {
            "_model_module": "@jupyter-widgets/base",
            "_model_module_version": "1.2.0",
            "_model_name": "LayoutModel",
            "_view_count": null,
            "_view_module": "@jupyter-widgets/base",
            "_view_module_version": "1.2.0",
            "_view_name": "LayoutView",
            "align_content": null,
            "align_items": null,
            "align_self": null,
            "border": null,
            "bottom": null,
            "display": null,
            "flex": null,
            "flex_flow": null,
            "grid_area": null,
            "grid_auto_columns": null,
            "grid_auto_flow": null,
            "grid_auto_rows": null,
            "grid_column": null,
            "grid_gap": null,
            "grid_row": null,
            "grid_template_areas": null,
            "grid_template_columns": null,
            "grid_template_rows": null,
            "height": null,
            "justify_content": null,
            "justify_items": null,
            "left": null,
            "margin": null,
            "max_height": null,
            "max_width": null,
            "min_height": null,
            "min_width": null,
            "object_fit": null,
            "object_position": null,
            "order": null,
            "overflow": null,
            "overflow_x": null,
            "overflow_y": null,
            "padding": null,
            "right": null,
            "top": null,
            "visibility": null,
            "width": null
          }
        },
        "bd8d07eddee2469e8271d290f0e4937d": {
          "model_module": "@jupyter-widgets/controls",
          "model_name": "ProgressStyleModel",
          "model_module_version": "1.5.0",
          "state": {
            "_model_module": "@jupyter-widgets/controls",
            "_model_module_version": "1.5.0",
            "_model_name": "ProgressStyleModel",
            "_view_count": null,
            "_view_module": "@jupyter-widgets/base",
            "_view_module_version": "1.2.0",
            "_view_name": "StyleView",
            "bar_color": null,
            "description_width": ""
          }
        },
        "c8de7f3f11304d5e8940553759e4587d": {
          "model_module": "@jupyter-widgets/base",
          "model_name": "LayoutModel",
          "model_module_version": "1.2.0",
          "state": {
            "_model_module": "@jupyter-widgets/base",
            "_model_module_version": "1.2.0",
            "_model_name": "LayoutModel",
            "_view_count": null,
            "_view_module": "@jupyter-widgets/base",
            "_view_module_version": "1.2.0",
            "_view_name": "LayoutView",
            "align_content": null,
            "align_items": null,
            "align_self": null,
            "border": null,
            "bottom": null,
            "display": null,
            "flex": null,
            "flex_flow": null,
            "grid_area": null,
            "grid_auto_columns": null,
            "grid_auto_flow": null,
            "grid_auto_rows": null,
            "grid_column": null,
            "grid_gap": null,
            "grid_row": null,
            "grid_template_areas": null,
            "grid_template_columns": null,
            "grid_template_rows": null,
            "height": null,
            "justify_content": null,
            "justify_items": null,
            "left": null,
            "margin": null,
            "max_height": null,
            "max_width": null,
            "min_height": null,
            "min_width": null,
            "object_fit": null,
            "object_position": null,
            "order": null,
            "overflow": null,
            "overflow_x": null,
            "overflow_y": null,
            "padding": null,
            "right": null,
            "top": null,
            "visibility": null,
            "width": null
          }
        },
        "2821e9b816824f2da70de7c6461aeda8": {
          "model_module": "@jupyter-widgets/controls",
          "model_name": "DescriptionStyleModel",
          "model_module_version": "1.5.0",
          "state": {
            "_model_module": "@jupyter-widgets/controls",
            "_model_module_version": "1.5.0",
            "_model_name": "DescriptionStyleModel",
            "_view_count": null,
            "_view_module": "@jupyter-widgets/base",
            "_view_module_version": "1.2.0",
            "_view_name": "StyleView",
            "description_width": ""
          }
        },
        "1099a47fba164b65ad2e8d949a1bebfb": {
          "model_module": "@jupyter-widgets/controls",
          "model_name": "HBoxModel",
          "model_module_version": "1.5.0",
          "state": {
            "_dom_classes": [],
            "_model_module": "@jupyter-widgets/controls",
            "_model_module_version": "1.5.0",
            "_model_name": "HBoxModel",
            "_view_count": null,
            "_view_module": "@jupyter-widgets/controls",
            "_view_module_version": "1.5.0",
            "_view_name": "HBoxView",
            "box_style": "",
            "children": [
              "IPY_MODEL_69e0d7b3f24a4f2a9e2246cd1d1b5695",
              "IPY_MODEL_d253736a22b74487a76f56918368211f",
              "IPY_MODEL_fc4568f059244d07862767059ab2978d"
            ],
            "layout": "IPY_MODEL_a5b12ed2d82843088d998d5351b97941"
          }
        },
        "69e0d7b3f24a4f2a9e2246cd1d1b5695": {
          "model_module": "@jupyter-widgets/controls",
          "model_name": "HTMLModel",
          "model_module_version": "1.5.0",
          "state": {
            "_dom_classes": [],
            "_model_module": "@jupyter-widgets/controls",
            "_model_module_version": "1.5.0",
            "_model_name": "HTMLModel",
            "_view_count": null,
            "_view_module": "@jupyter-widgets/controls",
            "_view_module_version": "1.5.0",
            "_view_name": "HTMLView",
            "description": "",
            "description_tooltip": null,
            "layout": "IPY_MODEL_a3c8e8a6b35d4e38ada9aee4cb5acdc1",
            "placeholder": "​",
            "style": "IPY_MODEL_3315f8b1ab8d43a1872546dc18bd5842",
            "value": "100%"
          }
        },
        "d253736a22b74487a76f56918368211f": {
          "model_module": "@jupyter-widgets/controls",
          "model_name": "FloatProgressModel",
          "model_module_version": "1.5.0",
          "state": {
            "_dom_classes": [],
            "_model_module": "@jupyter-widgets/controls",
            "_model_module_version": "1.5.0",
            "_model_name": "FloatProgressModel",
            "_view_count": null,
            "_view_module": "@jupyter-widgets/controls",
            "_view_module_version": "1.5.0",
            "_view_name": "ProgressView",
            "bar_style": "success",
            "description": "",
            "description_tooltip": null,
            "layout": "IPY_MODEL_d83cb4f8e14e40f5a3516d4d1f0781f8",
            "max": 1245,
            "min": 0,
            "orientation": "horizontal",
            "style": "IPY_MODEL_8927daacee8541f5974f56de0eb57f9c",
            "value": 1245
          }
        },
        "fc4568f059244d07862767059ab2978d": {
          "model_module": "@jupyter-widgets/controls",
          "model_name": "HTMLModel",
          "model_module_version": "1.5.0",
          "state": {
            "_dom_classes": [],
            "_model_module": "@jupyter-widgets/controls",
            "_model_module_version": "1.5.0",
            "_model_name": "HTMLModel",
            "_view_count": null,
            "_view_module": "@jupyter-widgets/controls",
            "_view_module_version": "1.5.0",
            "_view_name": "HTMLView",
            "description": "",
            "description_tooltip": null,
            "layout": "IPY_MODEL_1584c365dc644c26ab0da8a42b41c6e4",
            "placeholder": "​",
            "style": "IPY_MODEL_25884817ca504614b3ea948970d396b0",
            "value": " 1245/1245 [00:05&lt;00:00, 174.55it/s]"
          }
        },
        "a5b12ed2d82843088d998d5351b97941": {
          "model_module": "@jupyter-widgets/base",
          "model_name": "LayoutModel",
          "model_module_version": "1.2.0",
          "state": {
            "_model_module": "@jupyter-widgets/base",
            "_model_module_version": "1.2.0",
            "_model_name": "LayoutModel",
            "_view_count": null,
            "_view_module": "@jupyter-widgets/base",
            "_view_module_version": "1.2.0",
            "_view_name": "LayoutView",
            "align_content": null,
            "align_items": null,
            "align_self": null,
            "border": null,
            "bottom": null,
            "display": null,
            "flex": null,
            "flex_flow": null,
            "grid_area": null,
            "grid_auto_columns": null,
            "grid_auto_flow": null,
            "grid_auto_rows": null,
            "grid_column": null,
            "grid_gap": null,
            "grid_row": null,
            "grid_template_areas": null,
            "grid_template_columns": null,
            "grid_template_rows": null,
            "height": null,
            "justify_content": null,
            "justify_items": null,
            "left": null,
            "margin": null,
            "max_height": null,
            "max_width": null,
            "min_height": null,
            "min_width": null,
            "object_fit": null,
            "object_position": null,
            "order": null,
            "overflow": null,
            "overflow_x": null,
            "overflow_y": null,
            "padding": null,
            "right": null,
            "top": null,
            "visibility": null,
            "width": null
          }
        },
        "a3c8e8a6b35d4e38ada9aee4cb5acdc1": {
          "model_module": "@jupyter-widgets/base",
          "model_name": "LayoutModel",
          "model_module_version": "1.2.0",
          "state": {
            "_model_module": "@jupyter-widgets/base",
            "_model_module_version": "1.2.0",
            "_model_name": "LayoutModel",
            "_view_count": null,
            "_view_module": "@jupyter-widgets/base",
            "_view_module_version": "1.2.0",
            "_view_name": "LayoutView",
            "align_content": null,
            "align_items": null,
            "align_self": null,
            "border": null,
            "bottom": null,
            "display": null,
            "flex": null,
            "flex_flow": null,
            "grid_area": null,
            "grid_auto_columns": null,
            "grid_auto_flow": null,
            "grid_auto_rows": null,
            "grid_column": null,
            "grid_gap": null,
            "grid_row": null,
            "grid_template_areas": null,
            "grid_template_columns": null,
            "grid_template_rows": null,
            "height": null,
            "justify_content": null,
            "justify_items": null,
            "left": null,
            "margin": null,
            "max_height": null,
            "max_width": null,
            "min_height": null,
            "min_width": null,
            "object_fit": null,
            "object_position": null,
            "order": null,
            "overflow": null,
            "overflow_x": null,
            "overflow_y": null,
            "padding": null,
            "right": null,
            "top": null,
            "visibility": null,
            "width": null
          }
        },
        "3315f8b1ab8d43a1872546dc18bd5842": {
          "model_module": "@jupyter-widgets/controls",
          "model_name": "DescriptionStyleModel",
          "model_module_version": "1.5.0",
          "state": {
            "_model_module": "@jupyter-widgets/controls",
            "_model_module_version": "1.5.0",
            "_model_name": "DescriptionStyleModel",
            "_view_count": null,
            "_view_module": "@jupyter-widgets/base",
            "_view_module_version": "1.2.0",
            "_view_name": "StyleView",
            "description_width": ""
          }
        },
        "d83cb4f8e14e40f5a3516d4d1f0781f8": {
          "model_module": "@jupyter-widgets/base",
          "model_name": "LayoutModel",
          "model_module_version": "1.2.0",
          "state": {
            "_model_module": "@jupyter-widgets/base",
            "_model_module_version": "1.2.0",
            "_model_name": "LayoutModel",
            "_view_count": null,
            "_view_module": "@jupyter-widgets/base",
            "_view_module_version": "1.2.0",
            "_view_name": "LayoutView",
            "align_content": null,
            "align_items": null,
            "align_self": null,
            "border": null,
            "bottom": null,
            "display": null,
            "flex": null,
            "flex_flow": null,
            "grid_area": null,
            "grid_auto_columns": null,
            "grid_auto_flow": null,
            "grid_auto_rows": null,
            "grid_column": null,
            "grid_gap": null,
            "grid_row": null,
            "grid_template_areas": null,
            "grid_template_columns": null,
            "grid_template_rows": null,
            "height": null,
            "justify_content": null,
            "justify_items": null,
            "left": null,
            "margin": null,
            "max_height": null,
            "max_width": null,
            "min_height": null,
            "min_width": null,
            "object_fit": null,
            "object_position": null,
            "order": null,
            "overflow": null,
            "overflow_x": null,
            "overflow_y": null,
            "padding": null,
            "right": null,
            "top": null,
            "visibility": null,
            "width": null
          }
        },
        "8927daacee8541f5974f56de0eb57f9c": {
          "model_module": "@jupyter-widgets/controls",
          "model_name": "ProgressStyleModel",
          "model_module_version": "1.5.0",
          "state": {
            "_model_module": "@jupyter-widgets/controls",
            "_model_module_version": "1.5.0",
            "_model_name": "ProgressStyleModel",
            "_view_count": null,
            "_view_module": "@jupyter-widgets/base",
            "_view_module_version": "1.2.0",
            "_view_name": "StyleView",
            "bar_color": null,
            "description_width": ""
          }
        },
        "1584c365dc644c26ab0da8a42b41c6e4": {
          "model_module": "@jupyter-widgets/base",
          "model_name": "LayoutModel",
          "model_module_version": "1.2.0",
          "state": {
            "_model_module": "@jupyter-widgets/base",
            "_model_module_version": "1.2.0",
            "_model_name": "LayoutModel",
            "_view_count": null,
            "_view_module": "@jupyter-widgets/base",
            "_view_module_version": "1.2.0",
            "_view_name": "LayoutView",
            "align_content": null,
            "align_items": null,
            "align_self": null,
            "border": null,
            "bottom": null,
            "display": null,
            "flex": null,
            "flex_flow": null,
            "grid_area": null,
            "grid_auto_columns": null,
            "grid_auto_flow": null,
            "grid_auto_rows": null,
            "grid_column": null,
            "grid_gap": null,
            "grid_row": null,
            "grid_template_areas": null,
            "grid_template_columns": null,
            "grid_template_rows": null,
            "height": null,
            "justify_content": null,
            "justify_items": null,
            "left": null,
            "margin": null,
            "max_height": null,
            "max_width": null,
            "min_height": null,
            "min_width": null,
            "object_fit": null,
            "object_position": null,
            "order": null,
            "overflow": null,
            "overflow_x": null,
            "overflow_y": null,
            "padding": null,
            "right": null,
            "top": null,
            "visibility": null,
            "width": null
          }
        },
        "25884817ca504614b3ea948970d396b0": {
          "model_module": "@jupyter-widgets/controls",
          "model_name": "DescriptionStyleModel",
          "model_module_version": "1.5.0",
          "state": {
            "_model_module": "@jupyter-widgets/controls",
            "_model_module_version": "1.5.0",
            "_model_name": "DescriptionStyleModel",
            "_view_count": null,
            "_view_module": "@jupyter-widgets/base",
            "_view_module_version": "1.2.0",
            "_view_name": "StyleView",
            "description_width": ""
          }
        }
      }
    }
  },
  "nbformat": 4,
  "nbformat_minor": 0
}