{
  "cells": [
    {
      "cell_type": "markdown",
      "metadata": {
        "id": "h6gzZrtO0FdX"
      },
      "source": [
        "# Deep Learning assignment #1\n",
        "\n",
        "In this first assignment of the *Deep Learning course*, you will be challenged to reproduce some experiments from the seminal paper that (probably) gave rise to the entire field of *Deep Learning*. Even though the experiments are definitely simple for today’s standards, their setup and execution may kickstart unexpectedly *deep* considerations about the subject.\n",
        "\n",
        "The list that follow should provide you with essential guidance on how the assignment should be carried on.\n",
        "\n",
        "1.   Read carefully the paper [*“Learning representations by back-propagating errors” (Rumelhart et al., 1986)*](https://bucket.ballarin.cc/papers/oth/rumelhart1986.pdf). Read it in its entirety, but focus specifically on the experiment outlined in *Fig. 1* (learning mirror symmetries in 6-digits numbers).\n",
        "\n",
        "2.   Reproduce in `PyTorch` (or any other *DL* library you are confident using) such experiment. Try to be as close as possible to the original protocol, with respect to network architecture, activation functions, learning algorithm and parameter initialization.\n",
        "\n",
        "3.   Assess model accuracy, and inspect the weights of the trained network. Do they provide a solution to the problem?\n",
        "\n",
        "4.   Compare the solution to the one reported in the original paper. Comment.\n",
        "5.   **Optional:** you are warmly encouraged to explore and discuss additional variations to the experimental details and the results they produce on final accuracy and weights of the network. Some of such changes may include (but are not limited to):\n",
        "     -   changing the activation functions of the network;\n",
        "     -   changing the optimizer and/or its hyperparameters;\n",
        "     -   adding a learning rate scheduler, *etc.*\n",
        "\n",
        "Write a short report (approx. 1 page long) about your experimentation and reproduction results, and what such experience had made you learn. The final document should be a `jupyter` notebook containing both the report and the code cells necessary to reproduce your experiments. Please, also comment any nontrivial parts of your code.\n",
        "\n",
        "**N.B.:** The very goal of this assignment is **not** that of exactly reproducing the results of the original paper. There are no *correct* or *incorrect* choices, as long as they are reasonable, convincing, and justified. Approach the problem with an open mind, and – most importantly – enjoy the journey!\n",
        "\n",
        "\n",
        "\n",
        "You can send your `jupyter` notebook in any digital format you prefer (`ipynb`, `html`, `pdf`) as an attachment to [emanuele@ballarin.cc](mailto:emanuele@ballarin.cc), by **the end of May 7, 2024**.\n",
        "\n",
        "You can also use the same email address for any question related to the assignment. If you have more general questions or doubts about the assignment itself, the paper, or any other part of the course seen until now, please also include Prof. Ansuini in the conversation ([alessio.ansuini@areasciencepark.it](mailto:alessio.ansuini@areasciencepark.it)).\n",
        "\n",
        "\n",
        "\n",
        "**P.S.:** The code of your notebook is expected to run in compatibility with the latest version of `PyTorch` (*i.e.* `2.2.2`). If you require the use of any different version (or any different or additional library), please, specify it or make it clear from your comments. Thanks!\n"
      ]
    },
    {
      "cell_type": "markdown",
      "metadata": {
        "id": "d4ZL7DEvZhNK"
      },
      "source": [
        "## Initialization Constants"
      ]
    },
    {
      "cell_type": "code",
      "execution_count": null,
      "metadata": {
        "id": "dDDmkbjY0EuZ"
      },
      "outputs": [],
      "source": [
        "import torch as th\n",
        "import numpy as np\n",
        "\n",
        "from torch.utils.data import DataLoader\n",
        "from torch.utils.data import Dataset\n",
        "from sklearn.model_selection import train_test_split\n",
        "from itertools import product\n",
        "\n",
        "from tqdm.auto import trange\n",
        "\n",
        "import matplotlib.pyplot as plt"
      ]
    },
    {
      "cell_type": "code",
      "execution_count": null,
      "metadata": {
        "id": "Zwi2hC-j0mQT",
        "colab": {
          "base_uri": "https://localhost:8080/"
        },
        "outputId": "421caa42-75f8-4ea1-8505-42d96c1e2b8a"
      },
      "outputs": [
        {
          "output_type": "execute_result",
          "data": {
            "text/plain": [
              "<torch._C.Generator at 0x7c42ec3b9930>"
            ]
          },
          "metadata": {},
          "execution_count": 46
        }
      ],
      "source": [
        "device: th.device = th.device(\"cuda\" if th.cuda.is_available() else \"cpu\")\n",
        "CRITERION = (th.nn.MSELoss()) # The paper use the sum of squared differences divided by two but with this will converge\n",
        "                              # using an higher learning rate\n",
        "LR: float = 0.1\n",
        "MOMENTUM: float = 0.9\n",
        "BATCH_SIZE: int = 64"
      ]
    },
    {
      "cell_type": "markdown",
      "metadata": {
        "id": "qhu1gdYbZn-r"
      },
      "source": [
        "## Data Generation"
      ]
    },
    {
      "cell_type": "markdown",
      "source": [
        "To understand if an input data is ismmetric we can just check if the first value is equal to the last, the second to the second-last and so on"
      ],
      "metadata": {
        "id": "HyJf7gBCtOJl"
      }
    },
    {
      "cell_type": "code",
      "execution_count": null,
      "metadata": {
        "id": "8YwD64ua2GV-"
      },
      "outputs": [],
      "source": [
        "def is_simmetric(tensor: th.tensor):\n",
        "    # Allocate the output array\n",
        "    simmetric = th.zeros((len(tensor), 1))\n",
        "    d = tensor.shape[1]//2\n",
        "\n",
        "    # For each row...\n",
        "    for i, row in enumerate(tensor.numpy()):\n",
        "\n",
        "        simmetric[i] = float((row[:d] == row[d:][::-1]).all())\n",
        "\n",
        "    return simmetric"
      ]
    },
    {
      "cell_type": "markdown",
      "source": [
        "To generate all the possible combination of a binary array we can just use a cartesian product of the values"
      ],
      "metadata": {
        "id": "3rVk8V7ht2oS"
      }
    },
    {
      "cell_type": "code",
      "source": [
        "def generate_data_binary(dim: int = 6):\n",
        "    # data = th.tensor([])\n",
        "\n",
        "    ## Convert the binary representation of the values in array\n",
        "    # for i in range(2**dim):\n",
        "    #     idxs = np.array(list(bin(i).split(\"b\")[1]))\n",
        "    #     idxs = np.where(idxs == '1')[0] - len(idxs)\n",
        "\n",
        "    #     new = th.zeros((1, dim))\n",
        "    #     new[0, idxs] = 1\n",
        "\n",
        "    #     data = th.cat((data, new))\n",
        "\n",
        "    X = th.tensor(list(product([0,1], repeat=6))).float()\n",
        "\n",
        "    y = is_simmetric(X)\n",
        "\n",
        "    return X, y"
      ],
      "metadata": {
        "id": "Yv-lUQJa1m9L"
      },
      "execution_count": null,
      "outputs": []
    },
    {
      "cell_type": "markdown",
      "source": [
        "We can define Dataset class for our data"
      ],
      "metadata": {
        "id": "0Nkru_SRuHQh"
      }
    },
    {
      "cell_type": "code",
      "execution_count": null,
      "metadata": {
        "id": "oXVVMm1NWQ6B"
      },
      "outputs": [],
      "source": [
        "class SimmetricData(Dataset):\n",
        "    def __init__(self, X: th.tensor, y: th.tensor):\n",
        "        self.X = X\n",
        "        self.y = y\n",
        "\n",
        "    def __len__(self):\n",
        "        return self.X.shape[0]\n",
        "\n",
        "    def __getitem__(self, index: int):\n",
        "        return self.X[index], self.y[index]"
      ]
    },
    {
      "cell_type": "markdown",
      "source": [
        "We can split the data into train and test set randomly chosing the indexes"
      ],
      "metadata": {
        "id": "hiQlq8GNuLcN"
      }
    },
    {
      "cell_type": "code",
      "execution_count": null,
      "metadata": {
        "id": "Ax9zgz8n_2au"
      },
      "outputs": [],
      "source": [
        "X, y = generate_data_binary(dim=6)"
      ]
    },
    {
      "cell_type": "code",
      "source": [
        "train_dataset: SimmetricData = SimmetricData(X, y)\n",
        "test_dataset: SimmetricData = SimmetricData(X, y)"
      ],
      "metadata": {
        "id": "AE4UmHbonoge"
      },
      "execution_count": null,
      "outputs": []
    },
    {
      "cell_type": "markdown",
      "source": [
        "We can convert the Dataset class into DataLoader"
      ],
      "metadata": {
        "id": "W_PtykRRufNP"
      }
    },
    {
      "cell_type": "code",
      "execution_count": null,
      "metadata": {
        "id": "ScTEo8cNZAIM"
      },
      "outputs": [],
      "source": [
        "train_dataloader: DataLoader = DataLoader(train_dataset, batch_size=BATCH_SIZE, shuffle=True)\n",
        "test_dataloader: DataLoader = DataLoader(test_dataset, batch_size=BATCH_SIZE, shuffle=True)"
      ]
    },
    {
      "cell_type": "markdown",
      "source": [
        "We can notice that, generating all the 64 combinations of a binary array of size 6, the simmetric data are a lot less than the non-simmetric ones."
      ],
      "metadata": {
        "id": "fkfUhlz3ul4U"
      }
    },
    {
      "cell_type": "code",
      "execution_count": null,
      "metadata": {
        "colab": {
          "base_uri": "https://localhost:8080/"
        },
        "id": "9tXjvqzT9zDD",
        "outputId": "41131513-0d73-4d25-d564-fc6eea00bde4"
      },
      "outputs": [
        {
          "output_type": "stream",
          "name": "stdout",
          "text": [
            "Total data: \t64\n",
            "Simmetric: \t12.5%\n",
            "Not Simmetric: \t87.5%\n"
          ]
        }
      ],
      "source": [
        "prop = round(y.sum().item()/y.shape[0], 3)\n",
        "print(f\"Total data: \\t{len(y)}\",\n",
        "      f\"Simmetric: \\t{prop*100}%\",\n",
        "      f\"Not Simmetric: \\t{(1-prop)*100}%\", sep=\"\\n\")"
      ]
    },
    {
      "cell_type": "markdown",
      "metadata": {
        "id": "ZrYsyqlUZsgZ"
      },
      "source": [
        "## Reproduction\n",
        "We can define the model as the one defined from the paper. \\\\\n",
        "This contains just one fully-connected hidden layer with two hidden units, and an output layer with just one output. \\\\\n",
        "The used activation functions are the Sigmoids."
      ]
    },
    {
      "cell_type": "code",
      "execution_count": null,
      "metadata": {
        "id": "yfOZ9KRkUdJ2"
      },
      "outputs": [],
      "source": [
        "def generate_model(input_size: int) -> th.nn.Module:\n",
        "    return th.nn.Sequential(\n",
        "        th.nn.Linear(in_features=input_size, out_features=2, bias=True),\n",
        "        th.nn.Sigmoid(),\n",
        "        th.nn.Linear(in_features=2, out_features=1, bias=True),\n",
        "        th.nn.Sigmoid(),\n",
        "    )"
      ]
    },
    {
      "cell_type": "code",
      "execution_count": null,
      "metadata": {
        "id": "eCL5ilqHZxpd"
      },
      "outputs": [],
      "source": [
        "def train_routine(model: th.nn.Module, criterion, optimizer: th.optim.Optimizer, train_loader: DataLoader, test_loader: DataLoader, epochs: int = 10):\n",
        "    train_loss = th.zeros(epochs)\n",
        "    train_accuracy = th.zeros(epochs)\n",
        "    test_loss = th.zeros(epochs)\n",
        "    test_accuracy = th.zeros(epochs)\n",
        "\n",
        "    for epoch in trange(epochs):\n",
        "        model.train()\n",
        "\n",
        "        for (X, y) in train_loader:\n",
        "            X, y = X.to(device), y.to(device)\n",
        "\n",
        "            output = model(X)\n",
        "            loss = criterion(output, y)\n",
        "\n",
        "            optimizer.zero_grad()\n",
        "            loss.backward()\n",
        "            optimizer.step()\n",
        "\n",
        "        model.eval()\n",
        "\n",
        "        loss: float = 0\n",
        "        correct: float = 0\n",
        "        total: float = 0\n",
        "\n",
        "        with th.no_grad():\n",
        "            for (X, y) in train_loader:\n",
        "                X, y = X.to(device), y.to(device)\n",
        "\n",
        "                output = model(X)\n",
        "                classes = output > 0.5\n",
        "\n",
        "                loss += criterion(output, y).item()\n",
        "\n",
        "                correct += classes.eq(y.view_as(classes)).sum().item()\n",
        "                total += len(output)\n",
        "\n",
        "            train_loss[epoch] = loss/total\n",
        "            train_accuracy[epoch] = correct/total\n",
        "\n",
        "\n",
        "        loss: float = 0\n",
        "        correct: float = 0\n",
        "        total: float = 0\n",
        "\n",
        "        with th.no_grad():\n",
        "            for (X, y) in test_loader:\n",
        "                X, y = X.to(device), y.to(device)\n",
        "\n",
        "                output = model(X)\n",
        "                classes = output > 0.5\n",
        "\n",
        "                loss += criterion(output, y).item()\n",
        "\n",
        "                correct += classes.eq(y.view_as(classes)).sum().item()\n",
        "                total += len(output)\n",
        "\n",
        "            test_loss[epoch] = loss/total\n",
        "            test_accuracy[epoch] = correct/total\n",
        "\n",
        "\n",
        "    return train_loss, train_accuracy, test_loss, test_accuracy"
      ]
    },
    {
      "cell_type": "markdown",
      "source": [
        "We havew to initialize the parameters from an uniform distribution\n",
        "\n",
        "$$Unif(-0.3, 0.3)$$"
      ],
      "metadata": {
        "id": "ta-v6m2vv3de"
      }
    },
    {
      "cell_type": "code",
      "execution_count": null,
      "metadata": {
        "id": "YXjBuWi4GvOM"
      },
      "outputs": [],
      "source": [
        "def init_parameters_uniform(model: th.nn.Module, boundary: float = 0.3):\n",
        "    for parameters in model.parameters():\n",
        "        th.nn.init.uniform_(parameters, a=-boundary, b=boundary)"
      ]
    },
    {
      "cell_type": "code",
      "execution_count": null,
      "metadata": {
        "id": "mYuTutw_VLaB"
      },
      "outputs": [],
      "source": [
        "model: th.nn.Module = generate_model(X.shape[1]).to(device)"
      ]
    },
    {
      "cell_type": "code",
      "execution_count": null,
      "metadata": {
        "id": "dHOeYSTOGr7V"
      },
      "outputs": [],
      "source": [
        "init_parameters_uniform(model, boundary=0.3)"
      ]
    },
    {
      "cell_type": "markdown",
      "source": [
        "We apply a 0.9 momentum weight value in the Stochastic Gradient Descent Optimizer"
      ],
      "metadata": {
        "id": "qwDoHBwXwNRM"
      }
    },
    {
      "cell_type": "code",
      "execution_count": null,
      "metadata": {
        "id": "frsdQrmf1wQg"
      },
      "outputs": [],
      "source": [
        "# optimizer: th.optim.Optimizer = th.optim.Adam(model.parameters(), lr=0.3, weight_decay=DECAY)\n",
        "optimizer: th.optim.Optimizer = th.optim.SGD(model.parameters(), lr=LR, momentum=MOMENTUM)"
      ]
    },
    {
      "cell_type": "markdown",
      "metadata": {
        "id": "I4zvGPNoZuiO"
      },
      "source": [
        "### Train"
      ]
    },
    {
      "cell_type": "markdown",
      "source": [
        "We can train our model for 1425 epochs as done in the paper"
      ],
      "metadata": {
        "id": "RdP11C44wXlr"
      }
    },
    {
      "cell_type": "code",
      "execution_count": null,
      "metadata": {
        "colab": {
          "base_uri": "https://localhost:8080/",
          "height": 49,
          "referenced_widgets": [
            "2c67b7acea6a47b28429698699b29f16",
            "3ca01bd768dd44ec981d04f000150184",
            "edbcf5d55b14427c817151e82667765b",
            "41467533a4f24247bde84b1c7121d085",
            "bc4af07349154bb3ae6f9eaa68b132e0",
            "d2e9ad87485e4a91b657043b8cb4fb74",
            "48a43ee79cbd47dc9e15563c059383dd",
            "b83e2913b3cc4c0aa41fa9ca2a1b379a",
            "6ee23a5ba52142c6af27a7fa3427435d",
            "29ac57efea0d4d5abc1d01004871cd8e",
            "a0965cdac4394de28f9d6691203ce186"
          ]
        },
        "id": "ibN3gpReWGEV",
        "outputId": "026f1e18-b98d-4276-bfc3-7e04e6369187"
      },
      "outputs": [
        {
          "output_type": "display_data",
          "data": {
            "text/plain": [
              "  0%|          | 0/1425 [00:00<?, ?it/s]"
            ],
            "application/vnd.jupyter.widget-view+json": {
              "version_major": 2,
              "version_minor": 0,
              "model_id": "2c67b7acea6a47b28429698699b29f16"
            }
          },
          "metadata": {}
        }
      ],
      "source": [
        "train_loss, train_accuracy, test_loss, test_accuracy = train_routine(model, CRITERION, optimizer, train_dataloader, test_dataloader, epochs=1425)"
      ]
    },
    {
      "cell_type": "markdown",
      "source": [
        "What we can notice is that the learned model is just a dummy classifier, the obtained accuracy is the same proportion of the number of elements which are non-simmetric"
      ],
      "metadata": {
        "id": "hVIlj1ZewhzM"
      }
    },
    {
      "cell_type": "code",
      "execution_count": null,
      "metadata": {
        "colab": {
          "base_uri": "https://localhost:8080/",
          "height": 497
        },
        "id": "32SyvwXrnRBO",
        "outputId": "dd1bc4d2-b075-4911-b747-6ad78d424e21"
      },
      "outputs": [
        {
          "output_type": "display_data",
          "data": {
            "text/plain": [
              "<Figure size 640x480 with 2 Axes>"
            ],
            "image/png": "[encoded data removed]"
          },
          "metadata": {}
        }
      ],
      "source": [
        "fig, ax1 = plt.subplots()\n",
        "fig.suptitle(\"Train\")\n",
        "\n",
        "ax1.plot(range(len(train_loss)), train_loss, color=\"red\")\n",
        "ax1.set_xlabel(\"Iterations\")\n",
        "ax1.set_ylabel(\"Loss\", color=\"red\")\n",
        "ax1.tick_params(axis=\"y\", labelcolor=\"red\")\n",
        "\n",
        "ax2 = ax1.twinx()\n",
        "ax2.plot(range(len(train_accuracy)), train_accuracy, color=\"blue\")\n",
        "ax2.set_ylabel(\"Accuracy\", color=\"blue\")\n",
        "ax2.set_ylim(bottom=-0.1, top=1.1)\n",
        "ax2.tick_params(axis=\"y\", labelcolor=\"blue\")"
      ]
    },
    {
      "cell_type": "code",
      "source": [
        "print(train_accuracy[-1].item())\n",
        "print(1 - th.tensor(y).mean().item())"
      ],
      "metadata": {
        "colab": {
          "base_uri": "https://localhost:8080/"
        },
        "id": "hL2slZWw_Cqn",
        "outputId": "6b64fe95-c3d6-446a-e45d-ea78861ecb34"
      },
      "execution_count": null,
      "outputs": [
        {
          "output_type": "stream",
          "name": "stdout",
          "text": [
            "0.875\n",
            "0.875\n"
          ]
        },
        {
          "output_type": "stream",
          "name": "stderr",
          "text": [
            "<ipython-input-62-1138f602faeb>:2: UserWarning: To copy construct from a tensor, it is recommended to use sourceTensor.clone().detach() or sourceTensor.clone().detach().requires_grad_(True), rather than torch.tensor(sourceTensor).\n",
            "  print(1 - th.tensor(y).mean().item())\n"
          ]
        }
      ]
    },
    {
      "cell_type": "markdown",
      "source": [
        "The learned parameters are not simmetric at all, the converge to the same value everywhere"
      ],
      "metadata": {
        "id": "-X613NeSxYAr"
      }
    },
    {
      "cell_type": "code",
      "execution_count": null,
      "metadata": {
        "colab": {
          "base_uri": "https://localhost:8080/"
        },
        "id": "0xRWhLsNsJRH",
        "outputId": "f937102a-d34a-407c-af75-0e3bd19b3222"
      },
      "outputs": [
        {
          "output_type": "execute_result",
          "data": {
            "text/plain": [
              "[Parameter containing:\n",
              " tensor([[ 0.2496,  0.0446, -0.1369, -0.0379,  0.0460,  0.1701],\n",
              "         [-0.1983, -0.0771,  0.0346, -0.0622, -0.0241, -0.1566]],\n",
              "        device='cuda:0', requires_grad=True),\n",
              " Parameter containing:\n",
              " tensor([0.0762, 0.2542], device='cuda:0', requires_grad=True),\n",
              " Parameter containing:\n",
              " tensor([[-0.8098, -0.6623]], device='cuda:0', requires_grad=True),\n",
              " Parameter containing:\n",
              " tensor([-1.1599], device='cuda:0', requires_grad=True)]"
            ]
          },
          "metadata": {},
          "execution_count": 63
        }
      ],
      "source": [
        "list(model.parameters())"
      ]
    },
    {
      "cell_type": "markdown",
      "source": [
        "## Other Parameters\n",
        "We try to use the momentum instead of the weight_decay and increasing the learning rate"
      ],
      "metadata": {
        "id": "XnqCyN2F5Lj8"
      }
    },
    {
      "cell_type": "code",
      "execution_count": null,
      "metadata": {
        "id": "GJAjOXD6jnAm"
      },
      "outputs": [],
      "source": [
        "model: th.nn.Module = generate_model(X.shape[1]).to(device)"
      ]
    },
    {
      "cell_type": "code",
      "execution_count": null,
      "metadata": {
        "id": "d1L4XuinjnAo"
      },
      "outputs": [],
      "source": [
        "init_parameters_uniform(model, boundary=0.3)"
      ]
    },
    {
      "cell_type": "code",
      "execution_count": null,
      "metadata": {
        "id": "7cA-yt7ajnAo"
      },
      "outputs": [],
      "source": [
        "# optimizer: th.optim.Optimizer = th.optim.Adam(model.parameters(), lr=1, weight_decay=0.5)\n",
        "optimizer: th.optim.Optimizer = th.optim.SGD(model.parameters(), lr=1, momentum=MOMENTUM)"
      ]
    },
    {
      "cell_type": "markdown",
      "metadata": {
        "id": "zwQ6g0jMjnAp"
      },
      "source": [
        "### Train"
      ]
    },
    {
      "cell_type": "code",
      "execution_count": null,
      "metadata": {
        "colab": {
          "base_uri": "https://localhost:8080/",
          "height": 49,
          "referenced_widgets": [
            "ceb304cff79b4d89af40c22ad3c11c42",
            "c0373d927a0244fca048a04bf80a3cc4",
            "069e7e69c77f48a6bb48a741901d309c",
            "0adf74fcc996423e8c443746dbb7a9e7",
            "d0b46cba14f14143b732444a414432e7",
            "27caecd834db4d50b0fc5d7183ad1a7d",
            "036b0bfb886147f0884a87b2a3bc3b8b",
            "7c234319f7e74f62a2916659abadf0fd",
            "7d874babafe34250a42f719b263244c8",
            "bf0e02f94c9b48309dcd1e9ec05df2c2",
            "d3bc363a9bf345918ef995d4c591464c"
          ]
        },
        "outputId": "e9e9e1fc-b576-4ad3-f494-cc56a0722a57",
        "id": "1xNAvL62jnAp"
      },
      "outputs": [
        {
          "output_type": "display_data",
          "data": {
            "text/plain": [
              "  0%|          | 0/1245 [00:00<?, ?it/s]"
            ],
            "application/vnd.jupyter.widget-view+json": {
              "version_major": 2,
              "version_minor": 0,
              "model_id": "ceb304cff79b4d89af40c22ad3c11c42"
            }
          },
          "metadata": {}
        }
      ],
      "source": [
        "train_loss, train_accuracy, test_loss, test_accuracy = train_routine(model, CRITERION, optimizer, train_dataloader, test_dataloader, epochs=1245)"
      ]
    },
    {
      "cell_type": "markdown",
      "source": [
        "From this configuration we can notice that the model is able to learn the simmetry"
      ],
      "metadata": {
        "id": "_NAR60UX5Psy"
      }
    },
    {
      "cell_type": "code",
      "execution_count": null,
      "metadata": {
        "colab": {
          "base_uri": "https://localhost:8080/",
          "height": 497
        },
        "outputId": "5ae2ef0a-3010-4074-d9ae-dfc531862ce6",
        "id": "L-blWywtjnAp"
      },
      "outputs": [
        {
          "output_type": "display_data",
          "data": {
            "text/plain": [
              "<Figure size 640x480 with 2 Axes>"
            ],
            "image/png": "[encoded data removed]"
          },
          "metadata": {}
        }
      ],
      "source": [
        "fig, ax1 = plt.subplots()\n",
        "fig.suptitle(\"Train\")\n",
        "\n",
        "ax1.plot(range(len(train_loss)), train_loss, color=\"red\")\n",
        "ax1.set_xlabel(\"Iterations\")\n",
        "ax1.set_ylabel(\"Loss\", color=\"red\")\n",
        "ax1.tick_params(axis=\"y\", labelcolor=\"red\")\n",
        "\n",
        "ax2 = ax1.twinx()\n",
        "ax2.plot(range(len(train_accuracy)), train_accuracy, color=\"blue\")\n",
        "ax2.set_ylabel(\"Accuracy\", color=\"blue\")\n",
        "ax2.set_ylim(bottom=-0.1, top=1.1)\n",
        "ax2.tick_params(axis=\"y\", labelcolor=\"blue\")"
      ]
    },
    {
      "cell_type": "code",
      "source": [
        "print(train_accuracy[-1].item())\n",
        "print(1 - next(iter(train_dataloader))[1].mean().item())"
      ],
      "metadata": {
        "colab": {
          "base_uri": "https://localhost:8080/"
        },
        "outputId": "0ff0cf59-46ea-45f5-f3f2-9c265766cab6",
        "id": "Wr-f7Sv1jnAq"
      },
      "execution_count": null,
      "outputs": [
        {
          "output_type": "stream",
          "name": "stdout",
          "text": [
            "1.0\n",
            "0.875\n"
          ]
        }
      ]
    },
    {
      "cell_type": "code",
      "execution_count": null,
      "metadata": {
        "colab": {
          "base_uri": "https://localhost:8080/"
        },
        "outputId": "7da0b90b-4843-4eec-e315-06eac202a7c5",
        "id": "ZmVARKUxjnAq"
      },
      "outputs": [
        {
          "output_type": "execute_result",
          "data": {
            "text/plain": [
              "[Parameter containing:\n",
              " tensor([[-8.2294, -4.1576,  2.0887, -2.0917,  4.1556,  8.2277],\n",
              "         [ 8.2296,  4.1565, -2.0922,  2.0891, -4.1585, -8.2313]],\n",
              "        device='cuda:0', requires_grad=True),\n",
              " Parameter containing:\n",
              " tensor([-1.7696, -1.7702], device='cuda:0', requires_grad=True),\n",
              " Parameter containing:\n",
              " tensor([[-10.1181, -10.1188]], device='cuda:0', requires_grad=True),\n",
              " Parameter containing:\n",
              " tensor([4.2562], device='cuda:0', requires_grad=True)]"
            ]
          },
          "metadata": {},
          "execution_count": 70
        }
      ],
      "source": [
        "list(model.parameters())"
      ]
    },
    {
      "cell_type": "markdown",
      "source": [
        "# Non-Binary input\n",
        " We want to try the same operation for a dataset composed by elements which values are in the range [0, 20]."
      ],
      "metadata": {
        "id": "K1Rflg8_PxD7"
      }
    },
    {
      "cell_type": "code",
      "execution_count": null,
      "metadata": {
        "id": "lLBDu1y913IC"
      },
      "outputs": [],
      "source": [
        "def generate_data(shape: tuple[int, int] = (32, 6), low: int=0, high: int=10) -> tuple[th.tensor, th.tensor]:\n",
        "    # Initialize the tensor\n",
        "    data = th.tensor([])\n",
        "\n",
        "    # While we don't have half row simmetric\n",
        "    while len(data) < shape[0]//2:\n",
        "        # Generate random rows and check if they are simmetric\n",
        "        x_tmp = th.randint(low=low, high=high, size=shape)\n",
        "        y_tmp = is_simmetric(x_tmp)\n",
        "\n",
        "        # Take just the simmetric row\n",
        "        y_tmp_ = y_tmp.reshape(-1).bool()\n",
        "        simmetric_rows = x_tmp[y_tmp_]\n",
        "\n",
        "        # Append to the tensor\n",
        "        data = th.cat((data, simmetric_rows), dim=0)\n",
        "\n",
        "    # Generate the other half rows\n",
        "    # Generally few rows are simmetric, so the dataset will be nearly balanced\n",
        "    not_simmetric = th.randint(low=0, high=10, size=data.shape)\n",
        "\n",
        "    # Obtain the final dataset\n",
        "    X = th.cat((data, not_simmetric), dim=0)\n",
        "    y = is_simmetric(X).float()\n",
        "\n",
        "    return X, y"
      ]
    },
    {
      "cell_type": "code",
      "execution_count": null,
      "metadata": {
        "id": "E472i6PoXVcU"
      },
      "outputs": [],
      "source": [
        "def split_data(X: th.tensor, y: th.tensor, test_size: int | float = 0.2, balanced: bool=True) -> tuple[th.tensor, th.tensor, th.tensor, th.tensor]:\n",
        "    if test_size < 1:\n",
        "        test_size = int(len(y)*test_size)\n",
        "\n",
        "    if balanced:\n",
        "      false_idxs = th.where(y==0)[0]\n",
        "      true_idxs  = th.where(y==1)[0]\n",
        "\n",
        "      test_idxs = np.random.choice(false_idxs, size=test_size//2, replace=False)\n",
        "      test_idxs = np.concatenate((test_idxs, np.random.choice(true_idxs, size=test_size//2 + test_size%2, replace=False)), axis=0)\n",
        "      train_idxs = list(set(range(len(y))) - set(test_idxs))\n",
        "    else:\n",
        "      test_idxs = np.random.choice(range(len(y)), size=test_size, replace=False)\n",
        "      train_idxs = list(set(range(len(y))) - set(test_idxs))\n",
        "\n",
        "    return X[train_idxs], X[test_idxs], y[train_idxs], y[test_idxs]"
      ]
    },
    {
      "cell_type": "code",
      "source": [
        "X, y = generate_data(shape=(64, 6), low=0, high=20)"
      ],
      "metadata": {
        "id": "mWl4bw2eQE5v"
      },
      "execution_count": null,
      "outputs": []
    },
    {
      "cell_type": "code",
      "source": [
        "X_train, X_test, y_train, y_test = split_data(X, y, test_size=0.5, balanced=True)"
      ],
      "metadata": {
        "id": "F8yAfsvMUzf7"
      },
      "execution_count": null,
      "outputs": []
    },
    {
      "cell_type": "code",
      "source": [
        "train_dataset: SimmetricData = SimmetricData(X_train, y_train)\n",
        "test_dataset: SimmetricData = SimmetricData(X_test, y_test)"
      ],
      "metadata": {
        "id": "Hr9sEVR5QQXL"
      },
      "execution_count": null,
      "outputs": []
    },
    {
      "cell_type": "code",
      "execution_count": null,
      "metadata": {
        "id": "4Zo4q-RxQQXP"
      },
      "outputs": [],
      "source": [
        "train_dataloader: DataLoader = DataLoader(train_dataset, batch_size=BATCH_SIZE, shuffle=True)\n",
        "test_dataloader: DataLoader = DataLoader(test_dataset, batch_size=BATCH_SIZE, shuffle=True)"
      ]
    },
    {
      "cell_type": "code",
      "execution_count": null,
      "metadata": {
        "colab": {
          "base_uri": "https://localhost:8080/"
        },
        "outputId": "29df7497-76d2-4de6-c5fe-aaabbf93a50e",
        "id": "o3FvCj1DQQXQ"
      },
      "outputs": [
        {
          "output_type": "stream",
          "name": "stdout",
          "text": [
            "Total data: \t64\n",
            "Simmetric: \t50.0%\n",
            "Not Simmetric: \t50.0%\n"
          ]
        }
      ],
      "source": [
        "prop = round(y.sum().item()/y.shape[0], 3)\n",
        "print(f\"Total data: \\t{len(y)}\",\n",
        "      f\"Simmetric: \\t{prop*100}%\",\n",
        "      f\"Not Simmetric: \\t{(1-prop)*100}%\", sep=\"\\n\")"
      ]
    },
    {
      "cell_type": "code",
      "execution_count": null,
      "metadata": {
        "id": "YmJ6b87_QT0z"
      },
      "outputs": [],
      "source": [
        "model: th.nn.Module = generate_model(X.shape[1]).to(device)"
      ]
    },
    {
      "cell_type": "code",
      "execution_count": null,
      "metadata": {
        "id": "9G93QWfnQT0z"
      },
      "outputs": [],
      "source": [
        "init_parameters_uniform(model, boundary=0.3)"
      ]
    },
    {
      "cell_type": "code",
      "execution_count": null,
      "metadata": {
        "id": "V-zJlqPkQT00"
      },
      "outputs": [],
      "source": [
        "# optimizer: th.optim.Optimizer = th.optim.Adam(model.parameters(), lr=1, weight_decay=0.5)\n",
        "optimizer: th.optim.Optimizer = th.optim.SGD(model.parameters(), lr=1, momentum=MOMENTUM)"
      ]
    },
    {
      "cell_type": "markdown",
      "metadata": {
        "id": "7PLzbBBPQT00"
      },
      "source": [
        "### Train"
      ]
    },
    {
      "cell_type": "code",
      "execution_count": null,
      "metadata": {
        "colab": {
          "base_uri": "https://localhost:8080/",
          "height": 49,
          "referenced_widgets": [
            "ff57d342fbe44a22be8c3ae55dc88f9d",
            "ac5f749a814345ad8add7ea8be65633b",
            "0e32ef7d26ed49cc978e814ff08dd513",
            "275369db2c914145adea78670f8cd11f",
            "aee0d5990891440fa6115c072c6184ee",
            "cf2d81ed64d1483c8144a30fad992292",
            "769e29da604d4d429c2990e35c228180",
            "f8e19c87c90b43d8bb8aa9319d9e34df",
            "b53cfa4f4eaf43fbb34e44262410e84f",
            "042afb6720ee41378dd0065dba7ac50f",
            "60e3f2e73ca54750a7c1423ac9049d3e"
          ]
        },
        "outputId": "40a6b69f-8eba-4dcd-a690-aadb168b1db9",
        "id": "NCxtOTUjQT01"
      },
      "outputs": [
        {
          "output_type": "display_data",
          "data": {
            "text/plain": [
              "  0%|          | 0/1425 [00:00<?, ?it/s]"
            ],
            "application/vnd.jupyter.widget-view+json": {
              "version_major": 2,
              "version_minor": 0,
              "model_id": "ff57d342fbe44a22be8c3ae55dc88f9d"
            }
          },
          "metadata": {}
        }
      ],
      "source": [
        "train_loss, train_accuracy, test_loss, test_accuracy = train_routine(model, CRITERION, optimizer, train_dataloader, test_dataloader, epochs=1425)"
      ]
    },
    {
      "cell_type": "markdown",
      "source": [
        "From this configuration we can notice that the model is able to learn the simmetry"
      ],
      "metadata": {
        "id": "y4kxcfeUQT01"
      }
    },
    {
      "cell_type": "code",
      "execution_count": null,
      "metadata": {
        "colab": {
          "base_uri": "https://localhost:8080/",
          "height": 497
        },
        "outputId": "4ddd9941-cae6-43af-843c-72996214b070",
        "id": "zA4eDDYAQT03"
      },
      "outputs": [
        {
          "output_type": "display_data",
          "data": {
            "text/plain": [
              "<Figure size 640x480 with 2 Axes>"
            ],
            "image/png": "[encoded data removed]"
          },
          "metadata": {}
        }
      ],
      "source": [
        "fig, ax1 = plt.subplots()\n",
        "fig.suptitle(\"Train\")\n",
        "\n",
        "ax1.plot(range(len(train_loss)), train_loss, color=\"red\")\n",
        "ax1.set_xlabel(\"Iterations\")\n",
        "ax1.set_ylabel(\"Loss\", color=\"red\")\n",
        "ax1.tick_params(axis=\"y\", labelcolor=\"red\")\n",
        "\n",
        "ax2 = ax1.twinx()\n",
        "ax2.plot(range(len(train_accuracy)), train_accuracy, color=\"blue\")\n",
        "ax2.set_ylabel(\"Accuracy\", color=\"blue\")\n",
        "ax2.set_ylim(bottom=-0.1, top=1.1)\n",
        "ax2.tick_params(axis=\"y\", labelcolor=\"blue\")"
      ]
    },
    {
      "cell_type": "code",
      "source": [
        "fig, ax1 = plt.subplots()\n",
        "fig.suptitle(\"Test\")\n",
        "\n",
        "ax1.plot(range(len(test_loss)), test_loss, color=\"red\")\n",
        "ax1.set_xlabel(\"Iterations\")\n",
        "ax1.set_ylabel(\"Loss\", color=\"red\")\n",
        "ax1.tick_params(axis=\"y\", labelcolor=\"red\")\n",
        "\n",
        "ax2 = ax1.twinx()\n",
        "ax2.plot(range(len(test_accuracy)), test_accuracy, color=\"blue\")\n",
        "ax2.set_ylabel(\"Accuracy\", color=\"blue\")\n",
        "ax2.set_ylim(bottom=-0.1, top=1.1)\n",
        "ax2.tick_params(axis=\"y\", labelcolor=\"blue\")"
      ],
      "metadata": {
        "colab": {
          "base_uri": "https://localhost:8080/",
          "height": 497
        },
        "id": "vy1Ui-peVvEI",
        "outputId": "db4dbe4c-f304-433e-be9e-95a39fabdf6e"
      },
      "execution_count": null,
      "outputs": [
        {
          "output_type": "display_data",
          "data": {
            "text/plain": [
              "<Figure size 640x480 with 2 Axes>"
            ],
            "image/png": "[encoded data removed]"
          },
          "metadata": {}
        }
      ]
    },
    {
      "cell_type": "code",
      "source": [
        "print(train_accuracy[-1].item())\n",
        "print(1 - next(iter(train_dataloader))[1].mean().item())"
      ],
      "metadata": {
        "colab": {
          "base_uri": "https://localhost:8080/"
        },
        "outputId": "fce8f882-8f8e-4d3c-bcef-96885350e173",
        "id": "cafAv5qlQT03"
      },
      "execution_count": null,
      "outputs": [
        {
          "output_type": "stream",
          "name": "stdout",
          "text": [
            "0.90625\n",
            "0.5\n"
          ]
        }
      ]
    },
    {
      "cell_type": "markdown",
      "source": [
        "The Model is not able to find the simmetry of the data.\n",
        "We can notice that the weights are not symmetric but is slightly better than a dummy classifier."
      ],
      "metadata": {
        "id": "UZbzz5cAXnMH"
      }
    },
    {
      "cell_type": "code",
      "execution_count": null,
      "metadata": {
        "colab": {
          "base_uri": "https://localhost:8080/"
        },
        "outputId": "8d680314-830a-4e97-b6e9-da371e9e218e",
        "id": "j8LzYtFDQT04"
      },
      "outputs": [
        {
          "output_type": "execute_result",
          "data": {
            "text/plain": [
              "[Parameter containing:\n",
              " tensor([[ 3.4805,  0.5803,  2.2548, -1.9315,  0.0073, -2.9927],\n",
              "         [ 2.8545,  0.9282, -2.3703, -2.3939, -0.7711,  0.2162]],\n",
              "        device='cuda:0', requires_grad=True),\n",
              " Parameter containing:\n",
              " tensor([-1.5984,  2.4266], device='cuda:0', requires_grad=True),\n",
              " Parameter containing:\n",
              " tensor([[ 6.4350, -3.5577]], device='cuda:0', requires_grad=True),\n",
              " Parameter containing:\n",
              " tensor([-3.7954], device='cuda:0', requires_grad=True)]"
            ]
          },
          "metadata": {},
          "execution_count": 85
        }
      ],
      "source": [
        "list(model.parameters())"
      ]
    },
    {
      "cell_type": "markdown",
      "source": [
        "# Conclusions\n",
        "\n",
        "We tried to implement the network suggested from the paper, composed by one hidden layer with two hidden units, and just one output. This was done using fully conntected layers. \\\\\n",
        "\n",
        "The used loss function is the Mean Square Error, while the optimizer is the classical Stochastic Gradient Descent using a momentum weight of 0.9 and a learning rate of 0.1. \\\\\n",
        "\n",
        "The batch size is equal to the size of the dataset, which is 64.\n",
        "As a test set we use the whole train-set, due to the lack of data.\n",
        "In the end, the parameters are initialized uniformly between -0.3 and 0.3. \\\\\n",
        "\n",
        "From the implementation of the network suggested from the paper, we can notice that the obtained model is nothing else than a dummy classifier, because classify all the elements with the same class. \\\\\n",
        "\n",
        "This is probably due to the high umbalancing of the data, which will contain just 64 rows, from which just 8 are simmetric, which means 12.5% of the dataset. We have also that the parameters seems to converge all to the same value. \\\\\n",
        "Another reason could be the internal implementation of pytorch, which can obtain, even if slighter, different result which can add some bias and reach another set of solutions. Probably it is due to a numerical issue given the small size of the steps. \\\\\n",
        "\n",
        "This problem is solvable increasing the learning rate, this because the loss function is probably contains several local minima. Increase the learning rate can increase the probability to go out from the local minima, but give also the possibility to bounce without reaching the global minimum.\n",
        "To help this process to reach better minima, we can use the momentum which will reduce the bouncing through the walls. \\\\\n",
        "\n",
        "We can see that using this approach the model is able to reach the maximum accuracy and obtain simmetrical parameters. These, of course, are different from the ones found from the paper, but they are consistent with their results. \\\\\n",
        "\n",
        "So we can conclude that the parameters and strategies suggested from the paper are not enough to find the requested results, because the model will be stuck into local minima. The solutions can be found using some strategies which push the parameters away from the minima introducing some noise, e.g. which could be a smaller batch, but in this case we probably should balance the dataset otherwise we could obtain batches without simmetric values, or, like seen before, introducing the momentum but with a larger learning rate which allow to exit from the minimum."
      ],
      "metadata": {
        "id": "s0jKAMGU6Coa"
      }
    }
  ],
  "metadata": {
    "accelerator": "GPU",
    "colab": {
      "gpuType": "T4",
      "provenance": [],
      "collapsed_sections": [
        "ZrYsyqlUZsgZ"
      ]
    },
    "kernelspec": {
      "display_name": "Python 3",
      "name": "python3"
    },
    "language_info": {
      "name": "python"
    },
    "widgets": {
      "application/vnd.jupyter.widget-state+json": {
        "2c67b7acea6a47b28429698699b29f16": {
          "model_module": "@jupyter-widgets/controls",
          "model_name": "HBoxModel",
          "model_module_version": "1.5.0",
          "state": {
            "_dom_classes": [],
            "_model_module": "@jupyter-widgets/controls",
            "_model_module_version": "1.5.0",
            "_model_name": "HBoxModel",
            "_view_count": null,
            "_view_module": "@jupyter-widgets/controls",
            "_view_module_version": "1.5.0",
            "_view_name": "HBoxView",
            "box_style": "",
            "children": [
              "IPY_MODEL_3ca01bd768dd44ec981d04f000150184",
              "IPY_MODEL_edbcf5d55b14427c817151e82667765b",
              "IPY_MODEL_41467533a4f24247bde84b1c7121d085"
            ],
            "layout": "IPY_MODEL_bc4af07349154bb3ae6f9eaa68b132e0"
          }
        },
        "3ca01bd768dd44ec981d04f000150184": {
          "model_module": "@jupyter-widgets/controls",
          "model_name": "HTMLModel",
          "model_module_version": "1.5.0",
          "state": {
            "_dom_classes": [],
            "_model_module": "@jupyter-widgets/controls",
            "_model_module_version": "1.5.0",
            "_model_name": "HTMLModel",
            "_view_count": null,
            "_view_module": "@jupyter-widgets/controls",
            "_view_module_version": "1.5.0",
            "_view_name": "HTMLView",
            "description": "",
            "description_tooltip": null,
            "layout": "IPY_MODEL_d2e9ad87485e4a91b657043b8cb4fb74",
            "placeholder": "​",
            "style": "IPY_MODEL_48a43ee79cbd47dc9e15563c059383dd",
            "value": "100%"
          }
        },
        "edbcf5d55b14427c817151e82667765b": {
          "model_module": "@jupyter-widgets/controls",
          "model_name": "FloatProgressModel",
          "model_module_version": "1.5.0",
          "state": {
            "_dom_classes": [],
            "_model_module": "@jupyter-widgets/controls",
            "_model_module_version": "1.5.0",
            "_model_name": "FloatProgressModel",
            "_view_count": null,
            "_view_module": "@jupyter-widgets/controls",
            "_view_module_version": "1.5.0",
            "_view_name": "ProgressView",
            "bar_style": "success",
            "description": "",
            "description_tooltip": null,
            "layout": "IPY_MODEL_b83e2913b3cc4c0aa41fa9ca2a1b379a",
            "max": 1425,
            "min": 0,
            "orientation": "horizontal",
            "style": "IPY_MODEL_6ee23a5ba52142c6af27a7fa3427435d",
            "value": 1425
          }
        },
        "41467533a4f24247bde84b1c7121d085": {
          "model_module": "@jupyter-widgets/controls",
          "model_name": "HTMLModel",
          "model_module_version": "1.5.0",
          "state": {
            "_dom_classes": [],
            "_model_module": "@jupyter-widgets/controls",
            "_model_module_version": "1.5.0",
            "_model_name": "HTMLModel",
            "_view_count": null,
            "_view_module": "@jupyter-widgets/controls",
            "_view_module_version": "1.5.0",
            "_view_name": "HTMLView",
            "description": "",
            "description_tooltip": null,
            "layout": "IPY_MODEL_29ac57efea0d4d5abc1d01004871cd8e",
            "placeholder": "​",
            "style": "IPY_MODEL_a0965cdac4394de28f9d6691203ce186",
            "value": " 1425/1425 [00:06&lt;00:00, 244.10it/s]"
          }
        },
        "bc4af07349154bb3ae6f9eaa68b132e0": {
          "model_module": "@jupyter-widgets/base",
          "model_name": "LayoutModel",
          "model_module_version": "1.2.0",
          "state": {
            "_model_module": "@jupyter-widgets/base",
            "_model_module_version": "1.2.0",
            "_model_name": "LayoutModel",
            "_view_count": null,
            "_view_module": "@jupyter-widgets/base",
            "_view_module_version": "1.2.0",
            "_view_name": "LayoutView",
            "align_content": null,
            "align_items": null,
            "align_self": null,
            "border": null,
            "bottom": null,
            "display": null,
            "flex": null,
            "flex_flow": null,
            "grid_area": null,
            "grid_auto_columns": null,
            "grid_auto_flow": null,
            "grid_auto_rows": null,
            "grid_column": null,
            "grid_gap": null,
            "grid_row": null,
            "grid_template_areas": null,
            "grid_template_columns": null,
            "grid_template_rows": null,
            "height": null,
            "justify_content": null,
            "justify_items": null,
            "left": null,
            "margin": null,
            "max_height": null,
            "max_width": null,
            "min_height": null,
            "min_width": null,
            "object_fit": null,
            "object_position": null,
            "order": null,
            "overflow": null,
            "overflow_x": null,
            "overflow_y": null,
            "padding": null,
            "right": null,
            "top": null,
            "visibility": null,
            "width": null
          }
        },
        "d2e9ad87485e4a91b657043b8cb4fb74": {
          "model_module": "@jupyter-widgets/base",
          "model_name": "LayoutModel",
          "model_module_version": "1.2.0",
          "state": {
            "_model_module": "@jupyter-widgets/base",
            "_model_module_version": "1.2.0",
            "_model_name": "LayoutModel",
            "_view_count": null,
            "_view_module": "@jupyter-widgets/base",
            "_view_module_version": "1.2.0",
            "_view_name": "LayoutView",
            "align_content": null,
            "align_items": null,
            "align_self": null,
            "border": null,
            "bottom": null,
            "display": null,
            "flex": null,
            "flex_flow": null,
            "grid_area": null,
            "grid_auto_columns": null,
            "grid_auto_flow": null,
            "grid_auto_rows": null,
            "grid_column": null,
            "grid_gap": null,
            "grid_row": null,
            "grid_template_areas": null,
            "grid_template_columns": null,
            "grid_template_rows": null,
            "height": null,
            "justify_content": null,
            "justify_items": null,
            "left": null,
            "margin": null,
            "max_height": null,
            "max_width": null,
            "min_height": null,
            "min_width": null,
            "object_fit": null,
            "object_position": null,
            "order": null,
            "overflow": null,
            "overflow_x": null,
            "overflow_y": null,
            "padding": null,
            "right": null,
            "top": null,
            "visibility": null,
            "width": null
          }
        },
        "48a43ee79cbd47dc9e15563c059383dd": {
          "model_module": "@jupyter-widgets/controls",
          "model_name": "DescriptionStyleModel",
          "model_module_version": "1.5.0",
          "state": {
            "_model_module": "@jupyter-widgets/controls",
            "_model_module_version": "1.5.0",
            "_model_name": "DescriptionStyleModel",
            "_view_count": null,
            "_view_module": "@jupyter-widgets/base",
            "_view_module_version": "1.2.0",
            "_view_name": "StyleView",
            "description_width": ""
          }
        },
        "b83e2913b3cc4c0aa41fa9ca2a1b379a": {
          "model_module": "@jupyter-widgets/base",
          "model_name": "LayoutModel",
          "model_module_version": "1.2.0",
          "state": {
            "_model_module": "@jupyter-widgets/base",
            "_model_module_version": "1.2.0",
            "_model_name": "LayoutModel",
            "_view_count": null,
            "_view_module": "@jupyter-widgets/base",
            "_view_module_version": "1.2.0",
            "_view_name": "LayoutView",
            "align_content": null,
            "align_items": null,
            "align_self": null,
            "border": null,
            "bottom": null,
            "display": null,
            "flex": null,
            "flex_flow": null,
            "grid_area": null,
            "grid_auto_columns": null,
            "grid_auto_flow": null,
            "grid_auto_rows": null,
            "grid_column": null,
            "grid_gap": null,
            "grid_row": null,
            "grid_template_areas": null,
            "grid_template_columns": null,
            "grid_template_rows": null,
            "height": null,
            "justify_content": null,
            "justify_items": null,
            "left": null,
            "margin": null,
            "max_height": null,
            "max_width": null,
            "min_height": null,
            "min_width": null,
            "object_fit": null,
            "object_position": null,
            "order": null,
            "overflow": null,
            "overflow_x": null,
            "overflow_y": null,
            "padding": null,
            "right": null,
            "top": null,
            "visibility": null,
            "width": null
          }
        },
        "6ee23a5ba52142c6af27a7fa3427435d": {
          "model_module": "@jupyter-widgets/controls",
          "model_name": "ProgressStyleModel",
          "model_module_version": "1.5.0",
          "state": {
            "_model_module": "@jupyter-widgets/controls",
            "_model_module_version": "1.5.0",
            "_model_name": "ProgressStyleModel",
            "_view_count": null,
            "_view_module": "@jupyter-widgets/base",
            "_view_module_version": "1.2.0",
            "_view_name": "StyleView",
            "bar_color": null,
            "description_width": ""
          }
        },
        "29ac57efea0d4d5abc1d01004871cd8e": {
          "model_module": "@jupyter-widgets/base",
          "model_name": "LayoutModel",
          "model_module_version": "1.2.0",
          "state": {
            "_model_module": "@jupyter-widgets/base",
            "_model_module_version": "1.2.0",
            "_model_name": "LayoutModel",
            "_view_count": null,
            "_view_module": "@jupyter-widgets/base",
            "_view_module_version": "1.2.0",
            "_view_name": "LayoutView",
            "align_content": null,
            "align_items": null,
            "align_self": null,
            "border": null,
            "bottom": null,
            "display": null,
            "flex": null,
            "flex_flow": null,
            "grid_area": null,
            "grid_auto_columns": null,
            "grid_auto_flow": null,
            "grid_auto_rows": null,
            "grid_column": null,
            "grid_gap": null,
            "grid_row": null,
            "grid_template_areas": null,
            "grid_template_columns": null,
            "grid_template_rows": null,
            "height": null,
            "justify_content": null,
            "justify_items": null,
            "left": null,
            "margin": null,
            "max_height": null,
            "max_width": null,
            "min_height": null,
            "min_width": null,
            "object_fit": null,
            "object_position": null,
            "order": null,
            "overflow": null,
            "overflow_x": null,
            "overflow_y": null,
            "padding": null,
            "right": null,
            "top": null,
            "visibility": null,
            "width": null
          }
        },
        "a0965cdac4394de28f9d6691203ce186": {
          "model_module": "@jupyter-widgets/controls",
          "model_name": "DescriptionStyleModel",
          "model_module_version": "1.5.0",
          "state": {
            "_model_module": "@jupyter-widgets/controls",
            "_model_module_version": "1.5.0",
            "_model_name": "DescriptionStyleModel",
            "_view_count": null,
            "_view_module": "@jupyter-widgets/base",
            "_view_module_version": "1.2.0",
            "_view_name": "StyleView",
            "description_width": ""
          }
        },
        "ceb304cff79b4d89af40c22ad3c11c42": {
          "model_module": "@jupyter-widgets/controls",
          "model_name": "HBoxModel",
          "model_module_version": "1.5.0",
          "state": {
            "_dom_classes": [],
            "_model_module": "@jupyter-widgets/controls",
            "_model_module_version": "1.5.0",
            "_model_name": "HBoxModel",
            "_view_count": null,
            "_view_module": "@jupyter-widgets/controls",
            "_view_module_version": "1.5.0",
            "_view_name": "HBoxView",
            "box_style": "",
            "children": [
              "IPY_MODEL_c0373d927a0244fca048a04bf80a3cc4",
              "IPY_MODEL_069e7e69c77f48a6bb48a741901d309c",
              "IPY_MODEL_0adf74fcc996423e8c443746dbb7a9e7"
            ],
            "layout": "IPY_MODEL_d0b46cba14f14143b732444a414432e7"
          }
        },
        "c0373d927a0244fca048a04bf80a3cc4": {
          "model_module": "@jupyter-widgets/controls",
          "model_name": "HTMLModel",
          "model_module_version": "1.5.0",
          "state": {
            "_dom_classes": [],
            "_model_module": "@jupyter-widgets/controls",
            "_model_module_version": "1.5.0",
            "_model_name": "HTMLModel",
            "_view_count": null,
            "_view_module": "@jupyter-widgets/controls",
            "_view_module_version": "1.5.0",
            "_view_name": "HTMLView",
            "description": "",
            "description_tooltip": null,
            "layout": "IPY_MODEL_27caecd834db4d50b0fc5d7183ad1a7d",
            "placeholder": "​",
            "style": "IPY_MODEL_036b0bfb886147f0884a87b2a3bc3b8b",
            "value": "100%"
          }
        },
        "069e7e69c77f48a6bb48a741901d309c": {
          "model_module": "@jupyter-widgets/controls",
          "model_name": "FloatProgressModel",
          "model_module_version": "1.5.0",
          "state": {
            "_dom_classes": [],
            "_model_module": "@jupyter-widgets/controls",
            "_model_module_version": "1.5.0",
            "_model_name": "FloatProgressModel",
            "_view_count": null,
            "_view_module": "@jupyter-widgets/controls",
            "_view_module_version": "1.5.0",
            "_view_name": "ProgressView",
            "bar_style": "success",
            "description": "",
            "description_tooltip": null,
            "layout": "IPY_MODEL_7c234319f7e74f62a2916659abadf0fd",
            "max": 1245,
            "min": 0,
            "orientation": "horizontal",
            "style": "IPY_MODEL_7d874babafe34250a42f719b263244c8",
            "value": 1245
          }
        },
        "0adf74fcc996423e8c443746dbb7a9e7": {
          "model_module": "@jupyter-widgets/controls",
          "model_name": "HTMLModel",
          "model_module_version": "1.5.0",
          "state": {
            "_dom_classes": [],
            "_model_module": "@jupyter-widgets/controls",
            "_model_module_version": "1.5.0",
            "_model_name": "HTMLModel",
            "_view_count": null,
            "_view_module": "@jupyter-widgets/controls",
            "_view_module_version": "1.5.0",
            "_view_name": "HTMLView",
            "description": "",
            "description_tooltip": null,
            "layout": "IPY_MODEL_bf0e02f94c9b48309dcd1e9ec05df2c2",
            "placeholder": "​",
            "style": "IPY_MODEL_d3bc363a9bf345918ef995d4c591464c",
            "value": " 1245/1245 [00:04&lt;00:00, 262.37it/s]"
          }
        },
        "d0b46cba14f14143b732444a414432e7": {
          "model_module": "@jupyter-widgets/base",
          "model_name": "LayoutModel",
          "model_module_version": "1.2.0",
          "state": {
            "_model_module": "@jupyter-widgets/base",
            "_model_module_version": "1.2.0",
            "_model_name": "LayoutModel",
            "_view_count": null,
            "_view_module": "@jupyter-widgets/base",
            "_view_module_version": "1.2.0",
            "_view_name": "LayoutView",
            "align_content": null,
            "align_items": null,
            "align_self": null,
            "border": null,
            "bottom": null,
            "display": null,
            "flex": null,
            "flex_flow": null,
            "grid_area": null,
            "grid_auto_columns": null,
            "grid_auto_flow": null,
            "grid_auto_rows": null,
            "grid_column": null,
            "grid_gap": null,
            "grid_row": null,
            "grid_template_areas": null,
            "grid_template_columns": null,
            "grid_template_rows": null,
            "height": null,
            "justify_content": null,
            "justify_items": null,
            "left": null,
            "margin": null,
            "max_height": null,
            "max_width": null,
            "min_height": null,
            "min_width": null,
            "object_fit": null,
            "object_position": null,
            "order": null,
            "overflow": null,
            "overflow_x": null,
            "overflow_y": null,
            "padding": null,
            "right": null,
            "top": null,
            "visibility": null,
            "width": null
          }
        },
        "27caecd834db4d50b0fc5d7183ad1a7d": {
          "model_module": "@jupyter-widgets/base",
          "model_name": "LayoutModel",
          "model_module_version": "1.2.0",
          "state": {
            "_model_module": "@jupyter-widgets/base",
            "_model_module_version": "1.2.0",
            "_model_name": "LayoutModel",
            "_view_count": null,
            "_view_module": "@jupyter-widgets/base",
            "_view_module_version": "1.2.0",
            "_view_name": "LayoutView",
            "align_content": null,
            "align_items": null,
            "align_self": null,
            "border": null,
            "bottom": null,
            "display": null,
            "flex": null,
            "flex_flow": null,
            "grid_area": null,
            "grid_auto_columns": null,
            "grid_auto_flow": null,
            "grid_auto_rows": null,
            "grid_column": null,
            "grid_gap": null,
            "grid_row": null,
            "grid_template_areas": null,
            "grid_template_columns": null,
            "grid_template_rows": null,
            "height": null,
            "justify_content": null,
            "justify_items": null,
            "left": null,
            "margin": null,
            "max_height": null,
            "max_width": null,
            "min_height": null,
            "min_width": null,
            "object_fit": null,
            "object_position": null,
            "order": null,
            "overflow": null,
            "overflow_x": null,
            "overflow_y": null,
            "padding": null,
            "right": null,
            "top": null,
            "visibility": null,
            "width": null
          }
        },
        "036b0bfb886147f0884a87b2a3bc3b8b": {
          "model_module": "@jupyter-widgets/controls",
          "model_name": "DescriptionStyleModel",
          "model_module_version": "1.5.0",
          "state": {
            "_model_module": "@jupyter-widgets/controls",
            "_model_module_version": "1.5.0",
            "_model_name": "DescriptionStyleModel",
            "_view_count": null,
            "_view_module": "@jupyter-widgets/base",
            "_view_module_version": "1.2.0",
            "_view_name": "StyleView",
            "description_width": ""
          }
        },
        "7c234319f7e74f62a2916659abadf0fd": {
          "model_module": "@jupyter-widgets/base",
          "model_name": "LayoutModel",
          "model_module_version": "1.2.0",
          "state": {
            "_model_module": "@jupyter-widgets/base",
            "_model_module_version": "1.2.0",
            "_model_name": "LayoutModel",
            "_view_count": null,
            "_view_module": "@jupyter-widgets/base",
            "_view_module_version": "1.2.0",
            "_view_name": "LayoutView",
            "align_content": null,
            "align_items": null,
            "align_self": null,
            "border": null,
            "bottom": null,
            "display": null,
            "flex": null,
            "flex_flow": null,
            "grid_area": null,
            "grid_auto_columns": null,
            "grid_auto_flow": null,
            "grid_auto_rows": null,
            "grid_column": null,
            "grid_gap": null,
            "grid_row": null,
            "grid_template_areas": null,
            "grid_template_columns": null,
            "grid_template_rows": null,
            "height": null,
            "justify_content": null,
            "justify_items": null,
            "left": null,
            "margin": null,
            "max_height": null,
            "max_width": null,
            "min_height": null,
            "min_width": null,
            "object_fit": null,
            "object_position": null,
            "order": null,
            "overflow": null,
            "overflow_x": null,
            "overflow_y": null,
            "padding": null,
            "right": null,
            "top": null,
            "visibility": null,
            "width": null
          }
        },
        "7d874babafe34250a42f719b263244c8": {
          "model_module": "@jupyter-widgets/controls",
          "model_name": "ProgressStyleModel",
          "model_module_version": "1.5.0",
          "state": {
            "_model_module": "@jupyter-widgets/controls",
            "_model_module_version": "1.5.0",
            "_model_name": "ProgressStyleModel",
            "_view_count": null,
            "_view_module": "@jupyter-widgets/base",
            "_view_module_version": "1.2.0",
            "_view_name": "StyleView",
            "bar_color": null,
            "description_width": ""
          }
        },
        "bf0e02f94c9b48309dcd1e9ec05df2c2": {
          "model_module": "@jupyter-widgets/base",
          "model_name": "LayoutModel",
          "model_module_version": "1.2.0",
          "state": {
            "_model_module": "@jupyter-widgets/base",
            "_model_module_version": "1.2.0",
            "_model_name": "LayoutModel",
            "_view_count": null,
            "_view_module": "@jupyter-widgets/base",
            "_view_module_version": "1.2.0",
            "_view_name": "LayoutView",
            "align_content": null,
            "align_items": null,
            "align_self": null,
            "border": null,
            "bottom": null,
            "display": null,
            "flex": null,
            "flex_flow": null,
            "grid_area": null,
            "grid_auto_columns": null,
            "grid_auto_flow": null,
            "grid_auto_rows": null,
            "grid_column": null,
            "grid_gap": null,
            "grid_row": null,
            "grid_template_areas": null,
            "grid_template_columns": null,
            "grid_template_rows": null,
            "height": null,
            "justify_content": null,
            "justify_items": null,
            "left": null,
            "margin": null,
            "max_height": null,
            "max_width": null,
            "min_height": null,
            "min_width": null,
            "object_fit": null,
            "object_position": null,
            "order": null,
            "overflow": null,
            "overflow_x": null,
            "overflow_y": null,
            "padding": null,
            "right": null,
            "top": null,
            "visibility": null,
            "width": null
          }
        },
        "d3bc363a9bf345918ef995d4c591464c": {
          "model_module": "@jupyter-widgets/controls",
          "model_name": "DescriptionStyleModel",
          "model_module_version": "1.5.0",
          "state": {
            "_model_module": "@jupyter-widgets/controls",
            "_model_module_version": "1.5.0",
            "_model_name": "DescriptionStyleModel",
            "_view_count": null,
            "_view_module": "@jupyter-widgets/base",
            "_view_module_version": "1.2.0",
            "_view_name": "StyleView",
            "description_width": ""
          }
        },
        "ff57d342fbe44a22be8c3ae55dc88f9d": {
          "model_module": "@jupyter-widgets/controls",
          "model_name": "HBoxModel",
          "model_module_version": "1.5.0",
          "state": {
            "_dom_classes": [],
            "_model_module": "@jupyter-widgets/controls",
            "_model_module_version": "1.5.0",
            "_model_name": "HBoxModel",
            "_view_count": null,
            "_view_module": "@jupyter-widgets/controls",
            "_view_module_version": "1.5.0",
            "_view_name": "HBoxView",
            "box_style": "",
            "children": [
              "IPY_MODEL_ac5f749a814345ad8add7ea8be65633b",
              "IPY_MODEL_0e32ef7d26ed49cc978e814ff08dd513",
              "IPY_MODEL_275369db2c914145adea78670f8cd11f"
            ],
            "layout": "IPY_MODEL_aee0d5990891440fa6115c072c6184ee"
          }
        },
        "ac5f749a814345ad8add7ea8be65633b": {
          "model_module": "@jupyter-widgets/controls",
          "model_name": "HTMLModel",
          "model_module_version": "1.5.0",
          "state": {
            "_dom_classes": [],
            "_model_module": "@jupyter-widgets/controls",
            "_model_module_version": "1.5.0",
            "_model_name": "HTMLModel",
            "_view_count": null,
            "_view_module": "@jupyter-widgets/controls",
            "_view_module_version": "1.5.0",
            "_view_name": "HTMLView",
            "description": "",
            "description_tooltip": null,
            "layout": "IPY_MODEL_cf2d81ed64d1483c8144a30fad992292",
            "placeholder": "​",
            "style": "IPY_MODEL_769e29da604d4d429c2990e35c228180",
            "value": "100%"
          }
        },
        "0e32ef7d26ed49cc978e814ff08dd513": {
          "model_module": "@jupyter-widgets/controls",
          "model_name": "FloatProgressModel",
          "model_module_version": "1.5.0",
          "state": {
            "_dom_classes": [],
            "_model_module": "@jupyter-widgets/controls",
            "_model_module_version": "1.5.0",
            "_model_name": "FloatProgressModel",
            "_view_count": null,
            "_view_module": "@jupyter-widgets/controls",
            "_view_module_version": "1.5.0",
            "_view_name": "ProgressView",
            "bar_style": "success",
            "description": "",
            "description_tooltip": null,
            "layout": "IPY_MODEL_f8e19c87c90b43d8bb8aa9319d9e34df",
            "max": 1425,
            "min": 0,
            "orientation": "horizontal",
            "style": "IPY_MODEL_b53cfa4f4eaf43fbb34e44262410e84f",
            "value": 1425
          }
        },
        "275369db2c914145adea78670f8cd11f": {
          "model_module": "@jupyter-widgets/controls",
          "model_name": "HTMLModel",
          "model_module_version": "1.5.0",
          "state": {
            "_dom_classes": [],
            "_model_module": "@jupyter-widgets/controls",
            "_model_module_version": "1.5.0",
            "_model_name": "HTMLModel",
            "_view_count": null,
            "_view_module": "@jupyter-widgets/controls",
            "_view_module_version": "1.5.0",
            "_view_name": "HTMLView",
            "description": "",
            "description_tooltip": null,
            "layout": "IPY_MODEL_042afb6720ee41378dd0065dba7ac50f",
            "placeholder": "​",
            "style": "IPY_MODEL_60e3f2e73ca54750a7c1423ac9049d3e",
            "value": " 1425/1425 [00:04&lt;00:00, 301.92it/s]"
          }
        },
        "aee0d5990891440fa6115c072c6184ee": {
          "model_module": "@jupyter-widgets/base",
          "model_name": "LayoutModel",
          "model_module_version": "1.2.0",
          "state": {
            "_model_module": "@jupyter-widgets/base",
            "_model_module_version": "1.2.0",
            "_model_name": "LayoutModel",
            "_view_count": null,
            "_view_module": "@jupyter-widgets/base",
            "_view_module_version": "1.2.0",
            "_view_name": "LayoutView",
            "align_content": null,
            "align_items": null,
            "align_self": null,
            "border": null,
            "bottom": null,
            "display": null,
            "flex": null,
            "flex_flow": null,
            "grid_area": null,
            "grid_auto_columns": null,
            "grid_auto_flow": null,
            "grid_auto_rows": null,
            "grid_column": null,
            "grid_gap": null,
            "grid_row": null,
            "grid_template_areas": null,
            "grid_template_columns": null,
            "grid_template_rows": null,
            "height": null,
            "justify_content": null,
            "justify_items": null,
            "left": null,
            "margin": null,
            "max_height": null,
            "max_width": null,
            "min_height": null,
            "min_width": null,
            "object_fit": null,
            "object_position": null,
            "order": null,
            "overflow": null,
            "overflow_x": null,
            "overflow_y": null,
            "padding": null,
            "right": null,
            "top": null,
            "visibility": null,
            "width": null
          }
        },
        "cf2d81ed64d1483c8144a30fad992292": {
          "model_module": "@jupyter-widgets/base",
          "model_name": "LayoutModel",
          "model_module_version": "1.2.0",
          "state": {
            "_model_module": "@jupyter-widgets/base",
            "_model_module_version": "1.2.0",
            "_model_name": "LayoutModel",
            "_view_count": null,
            "_view_module": "@jupyter-widgets/base",
            "_view_module_version": "1.2.0",
            "_view_name": "LayoutView",
            "align_content": null,
            "align_items": null,
            "align_self": null,
            "border": null,
            "bottom": null,
            "display": null,
            "flex": null,
            "flex_flow": null,
            "grid_area": null,
            "grid_auto_columns": null,
            "grid_auto_flow": null,
            "grid_auto_rows": null,
            "grid_column": null,
            "grid_gap": null,
            "grid_row": null,
            "grid_template_areas": null,
            "grid_template_columns": null,
            "grid_template_rows": null,
            "height": null,
            "justify_content": null,
            "justify_items": null,
            "left": null,
            "margin": null,
            "max_height": null,
            "max_width": null,
            "min_height": null,
            "min_width": null,
            "object_fit": null,
            "object_position": null,
            "order": null,
            "overflow": null,
            "overflow_x": null,
            "overflow_y": null,
            "padding": null,
            "right": null,
            "top": null,
            "visibility": null,
            "width": null
          }
        },
        "769e29da604d4d429c2990e35c228180": {
          "model_module": "@jupyter-widgets/controls",
          "model_name": "DescriptionStyleModel",
          "model_module_version": "1.5.0",
          "state": {
            "_model_module": "@jupyter-widgets/controls",
            "_model_module_version": "1.5.0",
            "_model_name": "DescriptionStyleModel",
            "_view_count": null,
            "_view_module": "@jupyter-widgets/base",
            "_view_module_version": "1.2.0",
            "_view_name": "StyleView",
            "description_width": ""
          }
        },
        "f8e19c87c90b43d8bb8aa9319d9e34df": {
          "model_module": "@jupyter-widgets/base",
          "model_name": "LayoutModel",
          "model_module_version": "1.2.0",
          "state": {
            "_model_module": "@jupyter-widgets/base",
            "_model_module_version": "1.2.0",
            "_model_name": "LayoutModel",
            "_view_count": null,
            "_view_module": "@jupyter-widgets/base",
            "_view_module_version": "1.2.0",
            "_view_name": "LayoutView",
            "align_content": null,
            "align_items": null,
            "align_self": null,
            "border": null,
            "bottom": null,
            "display": null,
            "flex": null,
            "flex_flow": null,
            "grid_area": null,
            "grid_auto_columns": null,
            "grid_auto_flow": null,
            "grid_auto_rows": null,
            "grid_column": null,
            "grid_gap": null,
            "grid_row": null,
            "grid_template_areas": null,
            "grid_template_columns": null,
            "grid_template_rows": null,
            "height": null,
            "justify_content": null,
            "justify_items": null,
            "left": null,
            "margin": null,
            "max_height": null,
            "max_width": null,
            "min_height": null,
            "min_width": null,
            "object_fit": null,
            "object_position": null,
            "order": null,
            "overflow": null,
            "overflow_x": null,
            "overflow_y": null,
            "padding": null,
            "right": null,
            "top": null,
            "visibility": null,
            "width": null
          }
        },
        "b53cfa4f4eaf43fbb34e44262410e84f": {
          "model_module": "@jupyter-widgets/controls",
          "model_name": "ProgressStyleModel",
          "model_module_version": "1.5.0",
          "state": {
            "_model_module": "@jupyter-widgets/controls",
            "_model_module_version": "1.5.0",
            "_model_name": "ProgressStyleModel",
            "_view_count": null,
            "_view_module": "@jupyter-widgets/base",
            "_view_module_version": "1.2.0",
            "_view_name": "StyleView",
            "bar_color": null,
            "description_width": ""
          }
        },
        "042afb6720ee41378dd0065dba7ac50f": {
          "model_module": "@jupyter-widgets/base",
          "model_name": "LayoutModel",
          "model_module_version": "1.2.0",
          "state": {
            "_model_module": "@jupyter-widgets/base",
            "_model_module_version": "1.2.0",
            "_model_name": "LayoutModel",
            "_view_count": null,
            "_view_module": "@jupyter-widgets/base",
            "_view_module_version": "1.2.0",
            "_view_name": "LayoutView",
            "align_content": null,
            "align_items": null,
            "align_self": null,
            "border": null,
            "bottom": null,
            "display": null,
            "flex": null,
            "flex_flow": null,
            "grid_area": null,
            "grid_auto_columns": null,
            "grid_auto_flow": null,
            "grid_auto_rows": null,
            "grid_column": null,
            "grid_gap": null,
            "grid_row": null,
            "grid_template_areas": null,
            "grid_template_columns": null,
            "grid_template_rows": null,
            "height": null,
            "justify_content": null,
            "justify_items": null,
            "left": null,
            "margin": null,
            "max_height": null,
            "max_width": null,
            "min_height": null,
            "min_width": null,
            "object_fit": null,
            "object_position": null,
            "order": null,
            "overflow": null,
            "overflow_x": null,
            "overflow_y": null,
            "padding": null,
            "right": null,
            "top": null,
            "visibility": null,
            "width": null
          }
        },
        "60e3f2e73ca54750a7c1423ac9049d3e": {
          "model_module": "@jupyter-widgets/controls",
          "model_name": "DescriptionStyleModel",
          "model_module_version": "1.5.0",
          "state": {
            "_model_module": "@jupyter-widgets/controls",
            "_model_module_version": "1.5.0",
            "_model_name": "DescriptionStyleModel",
            "_view_count": null,
            "_view_module": "@jupyter-widgets/base",
            "_view_module_version": "1.2.0",
            "_view_name": "StyleView",
            "description_width": ""
          }
        }
      }
    }
  },
  "nbformat": 4,
  "nbformat_minor": 0
}